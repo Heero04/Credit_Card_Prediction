{
 "cells": [
  {
   "cell_type": "markdown",
   "id": "a97fed67-d346-4044-a0fe-40c719b7369d",
   "metadata": {},
   "source": [
    "## Check Current Version Of Python"
   ]
  },
  {
   "cell_type": "code",
   "execution_count": 1,
   "id": "bb8b04d3-77e5-4e8c-99c8-c284aa231a0a",
   "metadata": {
    "tags": []
   },
   "outputs": [],
   "source": [
    "###import sys\n",
    "import pandas as pd\n",
    "import missingno as msno\n",
    "import seaborn as sns\n",
    "import matplotlib.pyplot as plt"
   ]
  },
  {
   "cell_type": "code",
   "execution_count": 488,
   "id": "da0c9be2-a8dc-427c-8345-a72c7a0cd83d",
   "metadata": {
    "jupyter": {
     "source_hidden": true
    },
    "tags": []
   },
   "outputs": [
    {
     "name": "stdout",
     "output_type": "stream",
     "text": [
      "User Current Version:- 3.8.13 (default, Mar 28 2022, 06:59:08) [MSC v.1916 64 bit (AMD64)]\n"
     ]
    }
   ],
   "source": [
    "##%%script C:\\Users\\lawre\\AppData\\Local\\Programs\\Python\\Python38-32\\python.exe\n",
    "##%%script C:\\Users\\lawre\\AppData\\Local\\Programs\\Python\\Python39\\python.exe\n",
    "import sys \n",
    "print(\"User Current Version:-\", sys.version)"
   ]
  },
  {
   "cell_type": "markdown",
   "id": "7510e404-6ac3-4156-83e0-f713110c6857",
   "metadata": {},
   "source": [
    "## Connecting To Snowflake Database"
   ]
  },
  {
   "cell_type": "code",
   "execution_count": 11,
   "id": "74dde856-c357-4a02-b862-ea6eb9d51fe6",
   "metadata": {},
   "outputs": [
    {
     "name": "stdout",
     "output_type": "stream",
     "text": [
      "[Row(CURRENT_WAREHOUSE()='COMPUTE_WH', CURRENT_DATABASE()='CREDIT_CARD_APPROVAL_PREDICTION', CURRENT_SCHEMA()='PUBLIC')]\n"
     ]
    }
   ],
   "source": [
    "from snowflake.snowpark import Session\n",
    "\n",
    "conn = {\n",
    "  \"account\": \"\",\n",
    "  \"user\": \"\",\n",
    "  \"password\": \"\",\n",
    "  \"role\": \"\",\n",
    "  \"warehouse\": \"\",\n",
    "  \"database\": \"\",\n",
    "  \"schema\": \"\"\n",
    " }\n",
    "\n",
    "session = Session.builder.configs(conn).create()\n",
    "print(session.sql(\"select current_warehouse(), current_database(), current_schema()\").collect())  "
   ]
  },
  {
   "cell_type": "markdown",
   "id": "57a3aa38-189e-4cb3-9ba1-2c2134770b53",
   "metadata": {},
   "source": [
    "## Creating DataFrames From Snowflake Tables"
   ]
  },
  {
   "cell_type": "code",
   "execution_count": 12,
   "id": "0cc3ba3d-ef68-4b7f-9c63-81628c5c00f5",
   "metadata": {},
   "outputs": [],
   "source": [
    "FILTER_APP_RECORD = session.table('FILTER_APP_RECORD')\n",
    "FILTER_APP_RECORD.toPandas()\n",
    "FAR_df = FILTER_APP_RECORD.toPandas()\n"
   ]
  },
  {
   "cell_type": "code",
   "execution_count": 13,
   "id": "ca1cd722-a276-4767-b0bc-f5391c414b6a",
   "metadata": {},
   "outputs": [
    {
     "data": {
      "text/html": [
       "<div>\n",
       "<style scoped>\n",
       "    .dataframe tbody tr th:only-of-type {\n",
       "        vertical-align: middle;\n",
       "    }\n",
       "\n",
       "    .dataframe tbody tr th {\n",
       "        vertical-align: top;\n",
       "    }\n",
       "\n",
       "    .dataframe thead th {\n",
       "        text-align: right;\n",
       "    }\n",
       "</style>\n",
       "<table border=\"1\" class=\"dataframe\">\n",
       "  <thead>\n",
       "    <tr style=\"text-align: right;\">\n",
       "      <th></th>\n",
       "      <th>ID</th>\n",
       "      <th>STATUS</th>\n",
       "      <th>COUNT</th>\n",
       "      <th>GENDER</th>\n",
       "      <th>OWN_A_CAR</th>\n",
       "      <th>OWN_A_PROPERTY</th>\n",
       "      <th>NUMBER_OF_CHILDREN</th>\n",
       "      <th>INCOME</th>\n",
       "      <th>EMPLOMENT_STATUS</th>\n",
       "      <th>EDUCATION_LEVEL</th>\n",
       "      <th>MARITAL_STATUS</th>\n",
       "      <th>TYPE_OF_HOUSING</th>\n",
       "      <th>AGE</th>\n",
       "      <th>EMPLOMENT_LENGTH</th>\n",
       "      <th>HAS_A_PHONE</th>\n",
       "      <th>HAS_A_WORK_PHONE</th>\n",
       "      <th>HAS_HOUSE_PHONE</th>\n",
       "      <th>HAS_AN_EMAIL</th>\n",
       "      <th>JOB_TITLE</th>\n",
       "      <th>FAMILY_MEMBERS_COUNT</th>\n",
       "    </tr>\n",
       "  </thead>\n",
       "  <tbody>\n",
       "    <tr>\n",
       "      <th>0</th>\n",
       "      <td>5008804</td>\n",
       "      <td>C</td>\n",
       "      <td>13</td>\n",
       "      <td>M</td>\n",
       "      <td>Y</td>\n",
       "      <td>Y</td>\n",
       "      <td>0</td>\n",
       "      <td>427500</td>\n",
       "      <td>Working</td>\n",
       "      <td>Higher education</td>\n",
       "      <td>Civil marriage</td>\n",
       "      <td>Rented apartment</td>\n",
       "      <td>-12005</td>\n",
       "      <td>-4542</td>\n",
       "      <td>1</td>\n",
       "      <td>1</td>\n",
       "      <td>0</td>\n",
       "      <td>0</td>\n",
       "      <td>None</td>\n",
       "      <td>2</td>\n",
       "    </tr>\n",
       "    <tr>\n",
       "      <th>1</th>\n",
       "      <td>5008804</td>\n",
       "      <td>1</td>\n",
       "      <td>1</td>\n",
       "      <td>M</td>\n",
       "      <td>Y</td>\n",
       "      <td>Y</td>\n",
       "      <td>0</td>\n",
       "      <td>427500</td>\n",
       "      <td>Working</td>\n",
       "      <td>Higher education</td>\n",
       "      <td>Civil marriage</td>\n",
       "      <td>Rented apartment</td>\n",
       "      <td>-12005</td>\n",
       "      <td>-4542</td>\n",
       "      <td>1</td>\n",
       "      <td>1</td>\n",
       "      <td>0</td>\n",
       "      <td>0</td>\n",
       "      <td>None</td>\n",
       "      <td>2</td>\n",
       "    </tr>\n",
       "    <tr>\n",
       "      <th>2</th>\n",
       "      <td>5008804</td>\n",
       "      <td>0</td>\n",
       "      <td>1</td>\n",
       "      <td>M</td>\n",
       "      <td>Y</td>\n",
       "      <td>Y</td>\n",
       "      <td>0</td>\n",
       "      <td>427500</td>\n",
       "      <td>Working</td>\n",
       "      <td>Higher education</td>\n",
       "      <td>Civil marriage</td>\n",
       "      <td>Rented apartment</td>\n",
       "      <td>-12005</td>\n",
       "      <td>-4542</td>\n",
       "      <td>1</td>\n",
       "      <td>1</td>\n",
       "      <td>0</td>\n",
       "      <td>0</td>\n",
       "      <td>None</td>\n",
       "      <td>2</td>\n",
       "    </tr>\n",
       "    <tr>\n",
       "      <th>3</th>\n",
       "      <td>5008804</td>\n",
       "      <td>X</td>\n",
       "      <td>1</td>\n",
       "      <td>M</td>\n",
       "      <td>Y</td>\n",
       "      <td>Y</td>\n",
       "      <td>0</td>\n",
       "      <td>427500</td>\n",
       "      <td>Working</td>\n",
       "      <td>Higher education</td>\n",
       "      <td>Civil marriage</td>\n",
       "      <td>Rented apartment</td>\n",
       "      <td>-12005</td>\n",
       "      <td>-4542</td>\n",
       "      <td>1</td>\n",
       "      <td>1</td>\n",
       "      <td>0</td>\n",
       "      <td>0</td>\n",
       "      <td>None</td>\n",
       "      <td>2</td>\n",
       "    </tr>\n",
       "    <tr>\n",
       "      <th>4</th>\n",
       "      <td>5008805</td>\n",
       "      <td>C</td>\n",
       "      <td>12</td>\n",
       "      <td>M</td>\n",
       "      <td>Y</td>\n",
       "      <td>Y</td>\n",
       "      <td>0</td>\n",
       "      <td>427500</td>\n",
       "      <td>Working</td>\n",
       "      <td>Higher education</td>\n",
       "      <td>Civil marriage</td>\n",
       "      <td>Rented apartment</td>\n",
       "      <td>-12005</td>\n",
       "      <td>-4542</td>\n",
       "      <td>1</td>\n",
       "      <td>1</td>\n",
       "      <td>0</td>\n",
       "      <td>0</td>\n",
       "      <td>None</td>\n",
       "      <td>2</td>\n",
       "    </tr>\n",
       "    <tr>\n",
       "      <th>...</th>\n",
       "      <td>...</td>\n",
       "      <td>...</td>\n",
       "      <td>...</td>\n",
       "      <td>...</td>\n",
       "      <td>...</td>\n",
       "      <td>...</td>\n",
       "      <td>...</td>\n",
       "      <td>...</td>\n",
       "      <td>...</td>\n",
       "      <td>...</td>\n",
       "      <td>...</td>\n",
       "      <td>...</td>\n",
       "      <td>...</td>\n",
       "      <td>...</td>\n",
       "      <td>...</td>\n",
       "      <td>...</td>\n",
       "      <td>...</td>\n",
       "      <td>...</td>\n",
       "      <td>...</td>\n",
       "      <td>...</td>\n",
       "    </tr>\n",
       "    <tr>\n",
       "      <th>74869</th>\n",
       "      <td>5150483</td>\n",
       "      <td>X</td>\n",
       "      <td>18</td>\n",
       "      <td>F</td>\n",
       "      <td>Y</td>\n",
       "      <td>Y</td>\n",
       "      <td>1</td>\n",
       "      <td>157500</td>\n",
       "      <td>Working</td>\n",
       "      <td>Secondary / secondary special</td>\n",
       "      <td>Married</td>\n",
       "      <td>House / apartment</td>\n",
       "      <td>-10808</td>\n",
       "      <td>-1739</td>\n",
       "      <td>1</td>\n",
       "      <td>0</td>\n",
       "      <td>0</td>\n",
       "      <td>0</td>\n",
       "      <td>Core staff</td>\n",
       "      <td>3</td>\n",
       "    </tr>\n",
       "    <tr>\n",
       "      <th>74870</th>\n",
       "      <td>5150484</td>\n",
       "      <td>C</td>\n",
       "      <td>1</td>\n",
       "      <td>F</td>\n",
       "      <td>Y</td>\n",
       "      <td>Y</td>\n",
       "      <td>1</td>\n",
       "      <td>157500</td>\n",
       "      <td>Working</td>\n",
       "      <td>Secondary / secondary special</td>\n",
       "      <td>Married</td>\n",
       "      <td>House / apartment</td>\n",
       "      <td>-10808</td>\n",
       "      <td>-1739</td>\n",
       "      <td>1</td>\n",
       "      <td>0</td>\n",
       "      <td>0</td>\n",
       "      <td>0</td>\n",
       "      <td>Core staff</td>\n",
       "      <td>3</td>\n",
       "    </tr>\n",
       "    <tr>\n",
       "      <th>74871</th>\n",
       "      <td>5150484</td>\n",
       "      <td>0</td>\n",
       "      <td>12</td>\n",
       "      <td>F</td>\n",
       "      <td>Y</td>\n",
       "      <td>Y</td>\n",
       "      <td>1</td>\n",
       "      <td>157500</td>\n",
       "      <td>Working</td>\n",
       "      <td>Secondary / secondary special</td>\n",
       "      <td>Married</td>\n",
       "      <td>House / apartment</td>\n",
       "      <td>-10808</td>\n",
       "      <td>-1739</td>\n",
       "      <td>1</td>\n",
       "      <td>0</td>\n",
       "      <td>0</td>\n",
       "      <td>0</td>\n",
       "      <td>Core staff</td>\n",
       "      <td>3</td>\n",
       "    </tr>\n",
       "    <tr>\n",
       "      <th>74872</th>\n",
       "      <td>5150485</td>\n",
       "      <td>0</td>\n",
       "      <td>2</td>\n",
       "      <td>F</td>\n",
       "      <td>Y</td>\n",
       "      <td>Y</td>\n",
       "      <td>1</td>\n",
       "      <td>157500</td>\n",
       "      <td>Working</td>\n",
       "      <td>Secondary / secondary special</td>\n",
       "      <td>Married</td>\n",
       "      <td>House / apartment</td>\n",
       "      <td>-10808</td>\n",
       "      <td>-1739</td>\n",
       "      <td>1</td>\n",
       "      <td>0</td>\n",
       "      <td>0</td>\n",
       "      <td>0</td>\n",
       "      <td>Core staff</td>\n",
       "      <td>3</td>\n",
       "    </tr>\n",
       "    <tr>\n",
       "      <th>74873</th>\n",
       "      <td>5150487</td>\n",
       "      <td>C</td>\n",
       "      <td>30</td>\n",
       "      <td>M</td>\n",
       "      <td>Y</td>\n",
       "      <td>N</td>\n",
       "      <td>0</td>\n",
       "      <td>202500</td>\n",
       "      <td>Working</td>\n",
       "      <td>Secondary / secondary special</td>\n",
       "      <td>Married</td>\n",
       "      <td>House / apartment</td>\n",
       "      <td>-19398</td>\n",
       "      <td>-2166</td>\n",
       "      <td>1</td>\n",
       "      <td>0</td>\n",
       "      <td>0</td>\n",
       "      <td>0</td>\n",
       "      <td>Drivers</td>\n",
       "      <td>2</td>\n",
       "    </tr>\n",
       "  </tbody>\n",
       "</table>\n",
       "<p>74874 rows × 20 columns</p>\n",
       "</div>"
      ],
      "text/plain": [
       "            ID STATUS  COUNT GENDER OWN_A_CAR OWN_A_PROPERTY  \\\n",
       "0      5008804      C     13      M         Y              Y   \n",
       "1      5008804      1      1      M         Y              Y   \n",
       "2      5008804      0      1      M         Y              Y   \n",
       "3      5008804      X      1      M         Y              Y   \n",
       "4      5008805      C     12      M         Y              Y   \n",
       "...        ...    ...    ...    ...       ...            ...   \n",
       "74869  5150483      X     18      F         Y              Y   \n",
       "74870  5150484      C      1      F         Y              Y   \n",
       "74871  5150484      0     12      F         Y              Y   \n",
       "74872  5150485      0      2      F         Y              Y   \n",
       "74873  5150487      C     30      M         Y              N   \n",
       "\n",
       "       NUMBER_OF_CHILDREN  INCOME EMPLOMENT_STATUS  \\\n",
       "0                       0  427500          Working   \n",
       "1                       0  427500          Working   \n",
       "2                       0  427500          Working   \n",
       "3                       0  427500          Working   \n",
       "4                       0  427500          Working   \n",
       "...                   ...     ...              ...   \n",
       "74869                   1  157500          Working   \n",
       "74870                   1  157500          Working   \n",
       "74871                   1  157500          Working   \n",
       "74872                   1  157500          Working   \n",
       "74873                   0  202500          Working   \n",
       "\n",
       "                     EDUCATION_LEVEL  MARITAL_STATUS    TYPE_OF_HOUSING  \\\n",
       "0                   Higher education  Civil marriage   Rented apartment   \n",
       "1                   Higher education  Civil marriage   Rented apartment   \n",
       "2                   Higher education  Civil marriage   Rented apartment   \n",
       "3                   Higher education  Civil marriage   Rented apartment   \n",
       "4                   Higher education  Civil marriage   Rented apartment   \n",
       "...                              ...             ...                ...   \n",
       "74869  Secondary / secondary special         Married  House / apartment   \n",
       "74870  Secondary / secondary special         Married  House / apartment   \n",
       "74871  Secondary / secondary special         Married  House / apartment   \n",
       "74872  Secondary / secondary special         Married  House / apartment   \n",
       "74873  Secondary / secondary special         Married  House / apartment   \n",
       "\n",
       "         AGE  EMPLOMENT_LENGTH  HAS_A_PHONE  HAS_A_WORK_PHONE  \\\n",
       "0     -12005             -4542            1                 1   \n",
       "1     -12005             -4542            1                 1   \n",
       "2     -12005             -4542            1                 1   \n",
       "3     -12005             -4542            1                 1   \n",
       "4     -12005             -4542            1                 1   \n",
       "...      ...               ...          ...               ...   \n",
       "74869 -10808             -1739            1                 0   \n",
       "74870 -10808             -1739            1                 0   \n",
       "74871 -10808             -1739            1                 0   \n",
       "74872 -10808             -1739            1                 0   \n",
       "74873 -19398             -2166            1                 0   \n",
       "\n",
       "       HAS_HOUSE_PHONE  HAS_AN_EMAIL   JOB_TITLE  FAMILY_MEMBERS_COUNT  \n",
       "0                    0             0        None                     2  \n",
       "1                    0             0        None                     2  \n",
       "2                    0             0        None                     2  \n",
       "3                    0             0        None                     2  \n",
       "4                    0             0        None                     2  \n",
       "...                ...           ...         ...                   ...  \n",
       "74869                0             0  Core staff                     3  \n",
       "74870                0             0  Core staff                     3  \n",
       "74871                0             0  Core staff                     3  \n",
       "74872                0             0  Core staff                     3  \n",
       "74873                0             0     Drivers                     2  \n",
       "\n",
       "[74874 rows x 20 columns]"
      ]
     },
     "execution_count": 13,
     "metadata": {},
     "output_type": "execute_result"
    }
   ],
   "source": [
    "FAR_df"
   ]
  },
  {
   "cell_type": "markdown",
   "id": "74ead3d4-8710-490d-9f7d-3c530e49896d",
   "metadata": {},
   "source": [
    "\n",
    "## Summary"
   ]
  },
  {
   "cell_type": "code",
   "execution_count": 491,
   "id": "c098fa7b-06a7-48a9-ab2c-f29c88be238e",
   "metadata": {},
   "outputs": [
    {
     "data": {
      "text/html": [
       "<div>\n",
       "<style scoped>\n",
       "    .dataframe tbody tr th:only-of-type {\n",
       "        vertical-align: middle;\n",
       "    }\n",
       "\n",
       "    .dataframe tbody tr th {\n",
       "        vertical-align: top;\n",
       "    }\n",
       "\n",
       "    .dataframe thead th {\n",
       "        text-align: right;\n",
       "    }\n",
       "</style>\n",
       "<table border=\"1\" class=\"dataframe\">\n",
       "  <thead>\n",
       "    <tr style=\"text-align: right;\">\n",
       "      <th></th>\n",
       "      <th>ID</th>\n",
       "      <th>COUNT</th>\n",
       "      <th>NUMBER_OF_CHILDREN</th>\n",
       "      <th>INCOME</th>\n",
       "      <th>AGE</th>\n",
       "      <th>EMPLOMENT_LENGTH</th>\n",
       "      <th>HAS_A_PHONE</th>\n",
       "      <th>HAS_A_WORK_PHONE</th>\n",
       "      <th>HAS_HOUSE_PHONE</th>\n",
       "      <th>HAS_AN_EMAIL</th>\n",
       "      <th>FAMILY_MEMBERS_COUNT</th>\n",
       "    </tr>\n",
       "  </thead>\n",
       "  <tbody>\n",
       "    <tr>\n",
       "      <th>count</th>\n",
       "      <td>7.487400e+04</td>\n",
       "      <td>74874.000000</td>\n",
       "      <td>74874.000000</td>\n",
       "      <td>7.487400e+04</td>\n",
       "      <td>74874.000000</td>\n",
       "      <td>74874.000000</td>\n",
       "      <td>74874.0</td>\n",
       "      <td>74874.000000</td>\n",
       "      <td>74874.000000</td>\n",
       "      <td>74874.000000</td>\n",
       "      <td>74874.000000</td>\n",
       "    </tr>\n",
       "    <tr>\n",
       "      <th>mean</th>\n",
       "      <td>5.078092e+06</td>\n",
       "      <td>10.386983</td>\n",
       "      <td>0.428280</td>\n",
       "      <td>1.871096e+05</td>\n",
       "      <td>-15997.925208</td>\n",
       "      <td>59331.321367</td>\n",
       "      <td>1.0</td>\n",
       "      <td>0.226781</td>\n",
       "      <td>0.294962</td>\n",
       "      <td>0.090472</td>\n",
       "      <td>2.196784</td>\n",
       "    </tr>\n",
       "    <tr>\n",
       "      <th>std</th>\n",
       "      <td>4.186183e+04</td>\n",
       "      <td>10.952920</td>\n",
       "      <td>0.739141</td>\n",
       "      <td>1.030883e+05</td>\n",
       "      <td>4203.539867</td>\n",
       "      <td>137732.450913</td>\n",
       "      <td>0.0</td>\n",
       "      <td>0.418753</td>\n",
       "      <td>0.456029</td>\n",
       "      <td>0.286859</td>\n",
       "      <td>0.908533</td>\n",
       "    </tr>\n",
       "    <tr>\n",
       "      <th>min</th>\n",
       "      <td>5.008804e+06</td>\n",
       "      <td>1.000000</td>\n",
       "      <td>0.000000</td>\n",
       "      <td>2.700000e+04</td>\n",
       "      <td>-25152.000000</td>\n",
       "      <td>-15713.000000</td>\n",
       "      <td>1.0</td>\n",
       "      <td>0.000000</td>\n",
       "      <td>0.000000</td>\n",
       "      <td>0.000000</td>\n",
       "      <td>1.000000</td>\n",
       "    </tr>\n",
       "    <tr>\n",
       "      <th>25%</th>\n",
       "      <td>5.042016e+06</td>\n",
       "      <td>2.000000</td>\n",
       "      <td>0.000000</td>\n",
       "      <td>1.215000e+05</td>\n",
       "      <td>-19463.250000</td>\n",
       "      <td>-3165.000000</td>\n",
       "      <td>1.0</td>\n",
       "      <td>0.000000</td>\n",
       "      <td>0.000000</td>\n",
       "      <td>0.000000</td>\n",
       "      <td>2.000000</td>\n",
       "    </tr>\n",
       "    <tr>\n",
       "      <th>50%</th>\n",
       "      <td>5.069514e+06</td>\n",
       "      <td>6.000000</td>\n",
       "      <td>0.000000</td>\n",
       "      <td>1.575000e+05</td>\n",
       "      <td>-15598.000000</td>\n",
       "      <td>-1567.000000</td>\n",
       "      <td>1.0</td>\n",
       "      <td>0.000000</td>\n",
       "      <td>0.000000</td>\n",
       "      <td>0.000000</td>\n",
       "      <td>2.000000</td>\n",
       "    </tr>\n",
       "    <tr>\n",
       "      <th>75%</th>\n",
       "      <td>5.114636e+06</td>\n",
       "      <td>14.000000</td>\n",
       "      <td>1.000000</td>\n",
       "      <td>2.250000e+05</td>\n",
       "      <td>-12461.000000</td>\n",
       "      <td>-413.000000</td>\n",
       "      <td>1.0</td>\n",
       "      <td>0.000000</td>\n",
       "      <td>1.000000</td>\n",
       "      <td>0.000000</td>\n",
       "      <td>3.000000</td>\n",
       "    </tr>\n",
       "    <tr>\n",
       "      <th>max</th>\n",
       "      <td>5.150487e+06</td>\n",
       "      <td>61.000000</td>\n",
       "      <td>19.000000</td>\n",
       "      <td>1.575000e+06</td>\n",
       "      <td>-7489.000000</td>\n",
       "      <td>365243.000000</td>\n",
       "      <td>1.0</td>\n",
       "      <td>1.000000</td>\n",
       "      <td>1.000000</td>\n",
       "      <td>1.000000</td>\n",
       "      <td>20.000000</td>\n",
       "    </tr>\n",
       "  </tbody>\n",
       "</table>\n",
       "</div>"
      ],
      "text/plain": [
       "                 ID         COUNT  NUMBER_OF_CHILDREN        INCOME  \\\n",
       "count  7.487400e+04  74874.000000        74874.000000  7.487400e+04   \n",
       "mean   5.078092e+06     10.386983            0.428280  1.871096e+05   \n",
       "std    4.186183e+04     10.952920            0.739141  1.030883e+05   \n",
       "min    5.008804e+06      1.000000            0.000000  2.700000e+04   \n",
       "25%    5.042016e+06      2.000000            0.000000  1.215000e+05   \n",
       "50%    5.069514e+06      6.000000            0.000000  1.575000e+05   \n",
       "75%    5.114636e+06     14.000000            1.000000  2.250000e+05   \n",
       "max    5.150487e+06     61.000000           19.000000  1.575000e+06   \n",
       "\n",
       "                AGE  EMPLOMENT_LENGTH  HAS_A_PHONE  HAS_A_WORK_PHONE  \\\n",
       "count  74874.000000      74874.000000      74874.0      74874.000000   \n",
       "mean  -15997.925208      59331.321367          1.0          0.226781   \n",
       "std     4203.539867     137732.450913          0.0          0.418753   \n",
       "min   -25152.000000     -15713.000000          1.0          0.000000   \n",
       "25%   -19463.250000      -3165.000000          1.0          0.000000   \n",
       "50%   -15598.000000      -1567.000000          1.0          0.000000   \n",
       "75%   -12461.000000       -413.000000          1.0          0.000000   \n",
       "max    -7489.000000     365243.000000          1.0          1.000000   \n",
       "\n",
       "       HAS_HOUSE_PHONE  HAS_AN_EMAIL  FAMILY_MEMBERS_COUNT  \n",
       "count     74874.000000  74874.000000          74874.000000  \n",
       "mean          0.294962      0.090472              2.196784  \n",
       "std           0.456029      0.286859              0.908533  \n",
       "min           0.000000      0.000000              1.000000  \n",
       "25%           0.000000      0.000000              2.000000  \n",
       "50%           0.000000      0.000000              2.000000  \n",
       "75%           1.000000      0.000000              3.000000  \n",
       "max           1.000000      1.000000             20.000000  "
      ]
     },
     "execution_count": 491,
     "metadata": {},
     "output_type": "execute_result"
    }
   ],
   "source": [
    "FAR_df.describe()"
   ]
  },
  {
   "cell_type": "code",
   "execution_count": 492,
   "id": "6c250c4d-54d6-4234-8e3a-dc169a3f9703",
   "metadata": {},
   "outputs": [
    {
     "name": "stdout",
     "output_type": "stream",
     "text": [
      "<class 'pandas.core.frame.DataFrame'>\n",
      "RangeIndex: 74874 entries, 0 to 74873\n",
      "Data columns (total 20 columns):\n",
      " #   Column                Non-Null Count  Dtype \n",
      "---  ------                --------------  ----- \n",
      " 0   ID                    74874 non-null  int32 \n",
      " 1   STATUS                74874 non-null  object\n",
      " 2   COUNT                 74874 non-null  int64 \n",
      " 3   GENDER                74874 non-null  object\n",
      " 4   OWN_A_CAR             74874 non-null  object\n",
      " 5   OWN_A_PROPERTY        74874 non-null  object\n",
      " 6   NUMBER_OF_CHILDREN    74874 non-null  int8  \n",
      " 7   INCOME                74874 non-null  int32 \n",
      " 8   EMPLOMENT_STATUS      74874 non-null  object\n",
      " 9   EDUCATION_LEVEL       74874 non-null  object\n",
      " 10  MARITAL_STATUS        74874 non-null  object\n",
      " 11  TYPE_OF_HOUSING       74874 non-null  object\n",
      " 12  AGE                   74874 non-null  int16 \n",
      " 13  EMPLOMENT_LENGTH      74874 non-null  int32 \n",
      " 14  HAS_A_PHONE           74874 non-null  int8  \n",
      " 15  HAS_A_WORK_PHONE      74874 non-null  int8  \n",
      " 16  HAS_HOUSE_PHONE       74874 non-null  int8  \n",
      " 17  HAS_AN_EMAIL          74874 non-null  int8  \n",
      " 18  JOB_TITLE             51610 non-null  object\n",
      " 19  FAMILY_MEMBERS_COUNT  74874 non-null  int8  \n",
      "dtypes: int16(1), int32(3), int64(1), int8(6), object(9)\n",
      "memory usage: 7.1+ MB\n"
     ]
    }
   ],
   "source": [
    "FAR_df.info()"
   ]
  },
  {
   "cell_type": "code",
   "execution_count": 497,
   "id": "a409321a-d2e7-49f3-9841-70523c9df4aa",
   "metadata": {},
   "outputs": [
    {
     "name": "stderr",
     "output_type": "stream",
     "text": [
      "C:\\Users\\lawre\\AppData\\Local\\Temp\\ipykernel_11024\\67317551.py:1: FutureWarning: Dropping of nuisance columns in DataFrame reductions (with 'numeric_only=None') is deprecated; in a future version this will raise TypeError.  Select only valid columns before calling the reduction.\n",
      "  FAR_df.mean()\n"
     ]
    },
    {
     "data": {
      "text/plain": [
       "ID                      5.078092e+06\n",
       "COUNT                   1.038698e+01\n",
       "NUMBER_OF_CHILDREN      4.282795e-01\n",
       "INCOME                  1.871096e+05\n",
       "AGE                    -1.599793e+04\n",
       "EMPLOMENT_LENGTH        5.933132e+04\n",
       "HAS_A_PHONE             1.000000e+00\n",
       "HAS_A_WORK_PHONE        2.267810e-01\n",
       "HAS_HOUSE_PHONE         2.949622e-01\n",
       "HAS_AN_EMAIL            9.047199e-02\n",
       "FAMILY_MEMBERS_COUNT    2.196784e+00\n",
       "dtype: float64"
      ]
     },
     "execution_count": 497,
     "metadata": {},
     "output_type": "execute_result"
    }
   ],
   "source": [
    "FAR_df.mean()"
   ]
  },
  {
   "cell_type": "code",
   "execution_count": 494,
   "id": "a5e877c4-55dc-454c-882a-91a41530ad2a",
   "metadata": {},
   "outputs": [
    {
     "name": "stdout",
     "output_type": "stream",
     "text": [
      "Missing data count in each row\n",
      "ID                          0\n",
      "STATUS                      0\n",
      "COUNT                       0\n",
      "GENDER                      0\n",
      "OWN_A_CAR                   0\n",
      "OWN_A_PROPERTY              0\n",
      "NUMBER_OF_CHILDREN          0\n",
      "INCOME                      0\n",
      "EMPLOMENT_STATUS            0\n",
      "EDUCATION_LEVEL             0\n",
      "MARITAL_STATUS              0\n",
      "TYPE_OF_HOUSING             0\n",
      "AGE                         0\n",
      "EMPLOMENT_LENGTH            0\n",
      "HAS_A_PHONE                 0\n",
      "HAS_A_WORK_PHONE            0\n",
      "HAS_HOUSE_PHONE             0\n",
      "HAS_AN_EMAIL                0\n",
      "JOB_TITLE               23264\n",
      "FAMILY_MEMBERS_COUNT        0\n",
      "dtype: int64\n"
     ]
    }
   ],
   "source": [
    "print('Missing data count in each row')\n",
    "print(FAR_df.isnull().sum())"
   ]
  },
  {
   "cell_type": "code",
   "execution_count": 70,
   "id": "8875397a-9e84-4880-92bf-42386d1740eb",
   "metadata": {},
   "outputs": [
    {
     "name": "stdout",
     "output_type": "stream",
     "text": [
      "Number of Rows In Table\n",
      "74874\n"
     ]
    }
   ],
   "source": [
    "print('Number of Rows In Table')\n",
    "print(len(FAR_df))"
   ]
  },
  {
   "cell_type": "markdown",
   "id": "9ee7ff25-e48e-4930-98c8-102601ba380e",
   "metadata": {},
   "source": [
    "## Matrix"
   ]
  },
  {
   "cell_type": "code",
   "execution_count": 495,
   "id": "65bfd730-832a-4f83-acd6-a3f7e7e65cf5",
   "metadata": {},
   "outputs": [
    {
     "data": {
      "image/png": "[encoded data removed]",
      "text/plain": [
       "<Figure size 1800x720 with 2 Axes>"
      ]
     },
     "metadata": {
      "needs_background": "light"
     },
     "output_type": "display_data"
    }
   ],
   "source": [
    "msno.matrix(FAR_df)\n",
    "plt.show()"
   ]
  },
  {
   "cell_type": "code",
   "execution_count": 128,
   "id": "3b38e0af-bee8-40fb-b760-e2a0e5c278a2",
   "metadata": {},
   "outputs": [
    {
     "data": {
      "image/png": "[encoded data removed]",
      "text/plain": [
       "<Figure size 1800x720 with 3 Axes>"
      ]
     },
     "metadata": {
      "needs_background": "light"
     },
     "output_type": "display_data"
    }
   ],
   "source": [
    "msno.bar(FAR_df)\n",
    "plt.show()"
   ]
  },
  {
   "cell_type": "markdown",
   "id": "e713d7c7-5a05-4e47-9ca2-28ca5a81a0f1",
   "metadata": {},
   "source": [
    "# BY STATUS"
   ]
  },
  {
   "cell_type": "markdown",
   "id": "0efe74dc-71db-4f34-8d2e-69636a21f397",
   "metadata": {},
   "source": [
    "#### 0: 1-29 days past due\n",
    "#### 1: 30-59 days past due \n",
    "#### 2: 60-89 days overdue \n",
    "#### 3: 90-119 days overdue \n",
    "#### 4: 120-149 days overdue \n",
    "#### 5: Overdue or bad debts, write-offs for more than 150 days \n",
    "#### C: paid off that month \n",
    "#### X: No loan for the month"
   ]
  },
  {
   "cell_type": "code",
   "execution_count": 14,
   "id": "14a3119b-8800-4819-ad30-fefece6c61cc",
   "metadata": {},
   "outputs": [
    {
     "data": {
      "text/html": [
       "<div>\n",
       "<style scoped>\n",
       "    .dataframe tbody tr th:only-of-type {\n",
       "        vertical-align: middle;\n",
       "    }\n",
       "\n",
       "    .dataframe tbody tr th {\n",
       "        vertical-align: top;\n",
       "    }\n",
       "\n",
       "    .dataframe thead th {\n",
       "        text-align: right;\n",
       "    }\n",
       "</style>\n",
       "<table border=\"1\" class=\"dataframe\">\n",
       "  <thead>\n",
       "    <tr style=\"text-align: right;\">\n",
       "      <th></th>\n",
       "      <th>STATUS</th>\n",
       "      <th>COUNT</th>\n",
       "    </tr>\n",
       "  </thead>\n",
       "  <tbody>\n",
       "    <tr>\n",
       "      <th>0</th>\n",
       "      <td>0</td>\n",
       "      <td>31963</td>\n",
       "    </tr>\n",
       "    <tr>\n",
       "      <th>1</th>\n",
       "      <td>1</td>\n",
       "      <td>4149</td>\n",
       "    </tr>\n",
       "    <tr>\n",
       "      <th>2</th>\n",
       "      <td>2</td>\n",
       "      <td>555</td>\n",
       "    </tr>\n",
       "    <tr>\n",
       "      <th>3</th>\n",
       "      <td>3</td>\n",
       "      <td>248</td>\n",
       "    </tr>\n",
       "    <tr>\n",
       "      <th>4</th>\n",
       "      <td>4</td>\n",
       "      <td>181</td>\n",
       "    </tr>\n",
       "    <tr>\n",
       "      <th>5</th>\n",
       "      <td>5</td>\n",
       "      <td>180</td>\n",
       "    </tr>\n",
       "    <tr>\n",
       "      <th>6</th>\n",
       "      <td>C</td>\n",
       "      <td>17950</td>\n",
       "    </tr>\n",
       "    <tr>\n",
       "      <th>7</th>\n",
       "      <td>X</td>\n",
       "      <td>19648</td>\n",
       "    </tr>\n",
       "  </tbody>\n",
       "</table>\n",
       "</div>"
      ],
      "text/plain": [
       "  STATUS  COUNT\n",
       "0      0  31963\n",
       "1      1   4149\n",
       "2      2    555\n",
       "3      3    248\n",
       "4      4    181\n",
       "5      5    180\n",
       "6      C  17950\n",
       "7      X  19648"
      ]
     },
     "execution_count": 14,
     "metadata": {},
     "output_type": "execute_result"
    }
   ],
   "source": [
    "sql_order_status_count = session.sql(\"\"\"\n",
    "SELECT STATUS, COUNT(STATUS) as COUNT\n",
    "FROM FILTER_APP_RECORD\n",
    "GROUP BY STATUS\n",
    "ORDER BY STATUS\"\"\")\n",
    "\n",
    "sql_order_status_count.toPandas()"
   ]
  },
  {
   "cell_type": "code",
   "execution_count": 15,
   "id": "dfb90f35-fd64-49dd-9b5e-fcd6eb9b22cd",
   "metadata": {},
   "outputs": [
    {
     "data": {
      "text/plain": [
       "<AxesSubplot:>"
      ]
     },
     "execution_count": 15,
     "metadata": {},
     "output_type": "execute_result"
    },
    {
     "data": {
      "image/png": "[encoded data removed]",
      "text/plain": [
       "<Figure size 432x288 with 1 Axes>"
      ]
     },
     "metadata": {
      "needs_background": "light"
     },
     "output_type": "display_data"
    }
   ],
   "source": [
    "sql_order_status_count.toPandas().plot.barh()"
   ]
  },
  {
   "cell_type": "markdown",
   "id": "7945710a-b263-4abd-9429-088bf0d28bf4",
   "metadata": {},
   "source": [
    "## BY GENDER"
   ]
  },
  {
   "cell_type": "code",
   "execution_count": 339,
   "id": "99e198c4-8e08-42c2-a5bd-c247c2cdb606",
   "metadata": {},
   "outputs": [
    {
     "data": {
      "text/html": [
       "<div>\n",
       "<style scoped>\n",
       "    .dataframe tbody tr th:only-of-type {\n",
       "        vertical-align: middle;\n",
       "    }\n",
       "\n",
       "    .dataframe tbody tr th {\n",
       "        vertical-align: top;\n",
       "    }\n",
       "\n",
       "    .dataframe thead th {\n",
       "        text-align: right;\n",
       "    }\n",
       "</style>\n",
       "<table border=\"1\" class=\"dataframe\">\n",
       "  <thead>\n",
       "    <tr style=\"text-align: right;\">\n",
       "      <th></th>\n",
       "      <th>GENDER</th>\n",
       "      <th>TOTAL</th>\n",
       "    </tr>\n",
       "  </thead>\n",
       "  <tbody>\n",
       "    <tr>\n",
       "      <th>0</th>\n",
       "      <td>F</td>\n",
       "      <td>50074</td>\n",
       "    </tr>\n",
       "    <tr>\n",
       "      <th>1</th>\n",
       "      <td>M</td>\n",
       "      <td>24800</td>\n",
       "    </tr>\n",
       "  </tbody>\n",
       "</table>\n",
       "</div>"
      ],
      "text/plain": [
       "  GENDER  TOTAL\n",
       "0      F  50074\n",
       "1      M  24800"
      ]
     },
     "execution_count": 339,
     "metadata": {},
     "output_type": "execute_result"
    }
   ],
   "source": [
    "FILTERING_BY_GENDER = session.sql(\"\"\"\n",
    "SELECT GENDER, COUNT(GENDER) AS TOTAL\n",
    "FROM FILTER_APP_RECORD\n",
    "GROUP BY GENDER\n",
    "ORDER BY GENDER\"\"\")\n",
    "\n",
    "FILTERING_BY_GENDER.toPandas()"
   ]
  },
  {
   "cell_type": "code",
   "execution_count": 345,
   "id": "85f2850a-97cf-49fb-89ac-e40b129dae36",
   "metadata": {},
   "outputs": [
    {
     "data": {
      "text/plain": [
       "<AxesSubplot:xlabel='GENDER'>"
      ]
     },
     "execution_count": 345,
     "metadata": {},
     "output_type": "execute_result"
    },
    {
     "data": {
      "image/png": "[encoded data removed]",
      "text/plain": [
       "<Figure size 432x288 with 1 Axes>"
      ]
     },
     "metadata": {
      "needs_background": "light"
     },
     "output_type": "display_data"
    }
   ],
   "source": [
    "FILTERING_BY_GENDER.toPandas().set_index(\"\"\"GENDER\"\"\").plot.bar(rot=0)"
   ]
  },
  {
   "cell_type": "markdown",
   "id": "bc2cea45-8935-46dc-a86d-c5f75aef324b",
   "metadata": {},
   "source": [
    "## BY OWN A CAR "
   ]
  },
  {
   "cell_type": "code",
   "execution_count": 212,
   "id": "1b15300d-5dbd-4a34-bf6d-fa39d987532f",
   "metadata": {},
   "outputs": [
    {
     "data": {
      "text/html": [
       "<div>\n",
       "<style scoped>\n",
       "    .dataframe tbody tr th:only-of-type {\n",
       "        vertical-align: middle;\n",
       "    }\n",
       "\n",
       "    .dataframe tbody tr th {\n",
       "        vertical-align: top;\n",
       "    }\n",
       "\n",
       "    .dataframe thead th {\n",
       "        text-align: right;\n",
       "    }\n",
       "</style>\n",
       "<table border=\"1\" class=\"dataframe\">\n",
       "  <thead>\n",
       "    <tr style=\"text-align: right;\">\n",
       "      <th></th>\n",
       "      <th>OWN_A_CAR</th>\n",
       "      <th>TOTAL</th>\n",
       "    </tr>\n",
       "  </thead>\n",
       "  <tbody>\n",
       "    <tr>\n",
       "      <th>0</th>\n",
       "      <td>Y</td>\n",
       "      <td>28395</td>\n",
       "    </tr>\n",
       "    <tr>\n",
       "      <th>1</th>\n",
       "      <td>N</td>\n",
       "      <td>46479</td>\n",
       "    </tr>\n",
       "  </tbody>\n",
       "</table>\n",
       "</div>"
      ],
      "text/plain": [
       "  OWN_A_CAR  TOTAL\n",
       "0         Y  28395\n",
       "1         N  46479"
      ]
     },
     "execution_count": 212,
     "metadata": {},
     "output_type": "execute_result"
    }
   ],
   "source": [
    "## OWN A CAR\n",
    "\n",
    "OWN_A_CAR = session.sql(\"\"\"\n",
    "SELECT DISTINCT OWN_A_CAR, COUNT(OWN_A_CAR) AS TOTAL\n",
    "FROM FILTER_APP_RECORD\n",
    "GROUP BY OWN_A_CAR\"\"\")\n",
    "\n",
    "OWN_A_CAR.toPandas()"
   ]
  },
  {
   "cell_type": "code",
   "execution_count": 216,
   "id": "1d4a220c-53ce-4f4e-8c2c-370f35f00e92",
   "metadata": {},
   "outputs": [
    {
     "data": {
      "text/plain": [
       "<AxesSubplot:xlabel='OWN_A_CAR'>"
      ]
     },
     "execution_count": 216,
     "metadata": {},
     "output_type": "execute_result"
    },
    {
     "data": {
      "image/png": "[encoded data removed]",
      "text/plain": [
       "<Figure size 432x288 with 1 Axes>"
      ]
     },
     "metadata": {
      "needs_background": "light"
     },
     "output_type": "display_data"
    }
   ],
   "source": [
    "OWN_A_CAR.toPandas().set_index(\"\"\"OWN_A_CAR\"\"\").plot.bar(rot=0)"
   ]
  },
  {
   "cell_type": "markdown",
   "id": "0c89d078-d9e0-4bb0-a261-be10b91ba3fe",
   "metadata": {},
   "source": [
    "## OWN A PROPERTY"
   ]
  },
  {
   "cell_type": "code",
   "execution_count": 222,
   "id": "8e0065cb-be0e-429b-9d33-f47b13c174dc",
   "metadata": {},
   "outputs": [
    {
     "data": {
      "text/html": [
       "<div>\n",
       "<style scoped>\n",
       "    .dataframe tbody tr th:only-of-type {\n",
       "        vertical-align: middle;\n",
       "    }\n",
       "\n",
       "    .dataframe tbody tr th {\n",
       "        vertical-align: top;\n",
       "    }\n",
       "\n",
       "    .dataframe thead th {\n",
       "        text-align: right;\n",
       "    }\n",
       "</style>\n",
       "<table border=\"1\" class=\"dataframe\">\n",
       "  <thead>\n",
       "    <tr style=\"text-align: right;\">\n",
       "      <th></th>\n",
       "      <th>OWN_A_PROPERTY</th>\n",
       "      <th>TOTAL</th>\n",
       "    </tr>\n",
       "  </thead>\n",
       "  <tbody>\n",
       "    <tr>\n",
       "      <th>0</th>\n",
       "      <td>Y</td>\n",
       "      <td>50057</td>\n",
       "    </tr>\n",
       "    <tr>\n",
       "      <th>1</th>\n",
       "      <td>N</td>\n",
       "      <td>24817</td>\n",
       "    </tr>\n",
       "  </tbody>\n",
       "</table>\n",
       "</div>"
      ],
      "text/plain": [
       "  OWN_A_PROPERTY  TOTAL\n",
       "0              Y  50057\n",
       "1              N  24817"
      ]
     },
     "execution_count": 222,
     "metadata": {},
     "output_type": "execute_result"
    }
   ],
   "source": [
    "# OWN A PROPERTY\n",
    "OWN_A_PROPERTY = session.sql(\"\"\"\n",
    "SELECT DISTINCT OWN_A_PROPERTY, COUNT(OWN_A_PROPERTY) AS TOTAL\n",
    "FROM FILTER_APP_RECORD\n",
    "GROUP BY OWN_A_PROPERTY\"\"\")\n",
    "\n",
    "OWN_A_PROPERTY.toPandas()"
   ]
  },
  {
   "cell_type": "code",
   "execution_count": 223,
   "id": "de0ef2a2-bcc2-4fc0-bba0-fffd74bd6bc4",
   "metadata": {},
   "outputs": [
    {
     "data": {
      "text/plain": [
       "<AxesSubplot:xlabel='OWN_A_PROPERTY'>"
      ]
     },
     "execution_count": 223,
     "metadata": {},
     "output_type": "execute_result"
    },
    {
     "data": {
      "image/png": "[encoded data removed]",
      "text/plain": [
       "<Figure size 432x288 with 1 Axes>"
      ]
     },
     "metadata": {
      "needs_background": "light"
     },
     "output_type": "display_data"
    }
   ],
   "source": [
    "OWN_A_PROPERTY.toPandas().set_index(\"\"\"OWN_A_PROPERTY\"\"\").plot.bar(rot=0)"
   ]
  },
  {
   "cell_type": "markdown",
   "id": "13e41e50-b73b-42be-a18d-0a97b8789356",
   "metadata": {},
   "source": [
    "## NUMBER OF CHILDREN"
   ]
  },
  {
   "cell_type": "code",
   "execution_count": 458,
   "id": "1f180c3b-a645-4f78-91b1-aaa0050db09f",
   "metadata": {},
   "outputs": [
    {
     "data": {
      "text/html": [
       "<div>\n",
       "<style scoped>\n",
       "    .dataframe tbody tr th:only-of-type {\n",
       "        vertical-align: middle;\n",
       "    }\n",
       "\n",
       "    .dataframe tbody tr th {\n",
       "        vertical-align: top;\n",
       "    }\n",
       "\n",
       "    .dataframe thead th {\n",
       "        text-align: right;\n",
       "    }\n",
       "</style>\n",
       "<table border=\"1\" class=\"dataframe\">\n",
       "  <thead>\n",
       "    <tr style=\"text-align: right;\">\n",
       "      <th></th>\n",
       "      <th>NUMBER_OF_CHILDREN</th>\n",
       "      <th>TOTAL</th>\n",
       "    </tr>\n",
       "  </thead>\n",
       "  <tbody>\n",
       "    <tr>\n",
       "      <th>0</th>\n",
       "      <td>0</td>\n",
       "      <td>51927</td>\n",
       "    </tr>\n",
       "    <tr>\n",
       "      <th>1</th>\n",
       "      <td>1</td>\n",
       "      <td>15167</td>\n",
       "    </tr>\n",
       "    <tr>\n",
       "      <th>2</th>\n",
       "      <td>2</td>\n",
       "      <td>6742</td>\n",
       "    </tr>\n",
       "    <tr>\n",
       "      <th>3</th>\n",
       "      <td>3</td>\n",
       "      <td>867</td>\n",
       "    </tr>\n",
       "    <tr>\n",
       "      <th>4</th>\n",
       "      <td>4</td>\n",
       "      <td>120</td>\n",
       "    </tr>\n",
       "    <tr>\n",
       "      <th>5</th>\n",
       "      <td>5</td>\n",
       "      <td>38</td>\n",
       "    </tr>\n",
       "    <tr>\n",
       "      <th>6</th>\n",
       "      <td>7</td>\n",
       "      <td>6</td>\n",
       "    </tr>\n",
       "    <tr>\n",
       "      <th>7</th>\n",
       "      <td>14</td>\n",
       "      <td>6</td>\n",
       "    </tr>\n",
       "    <tr>\n",
       "      <th>8</th>\n",
       "      <td>19</td>\n",
       "      <td>1</td>\n",
       "    </tr>\n",
       "  </tbody>\n",
       "</table>\n",
       "</div>"
      ],
      "text/plain": [
       "   NUMBER_OF_CHILDREN  TOTAL\n",
       "0                   0  51927\n",
       "1                   1  15167\n",
       "2                   2   6742\n",
       "3                   3    867\n",
       "4                   4    120\n",
       "5                   5     38\n",
       "6                   7      6\n",
       "7                  14      6\n",
       "8                  19      1"
      ]
     },
     "execution_count": 458,
     "metadata": {},
     "output_type": "execute_result"
    }
   ],
   "source": [
    "##Number of children\n",
    "NUMBER_OF_CHILDREN = session.sql(\"\"\"\n",
    "SELECT DISTINCT NUMBER_OF_CHILDREN, COUNT(NUMBER_OF_CHILDREN) AS TOTAL\n",
    "FROM FILTER_APP_RECORD\n",
    "GROUP BY NUMBER_OF_CHILDREN\n",
    "ORDER BY NUMBER_OF_CHILDREN\n",
    ";\"\"\")\n",
    "\n",
    "NUMBER_OF_CHILDREN.toPandas()"
   ]
  },
  {
   "cell_type": "code",
   "execution_count": 466,
   "id": "0bd138b9-a771-4132-8eff-9f78244e04e3",
   "metadata": {},
   "outputs": [
    {
     "data": {
      "text/plain": [
       "<AxesSubplot:ylabel='NUMBER_OF_CHILDREN'>"
      ]
     },
     "execution_count": 466,
     "metadata": {},
     "output_type": "execute_result"
    },
    {
     "data": {
      "image/png": "[encoded data removed]",
      "text/plain": [
       "<Figure size 432x288 with 1 Axes>"
      ]
     },
     "metadata": {
      "needs_background": "light"
     },
     "output_type": "display_data"
    }
   ],
   "source": [
    "NUMBER_OF_CHILDREN.toPandas().set_index(\"\"\"NUMBER_OF_CHILDREN\"\"\").plot.barh()"
   ]
  },
  {
   "cell_type": "markdown",
   "id": "c753c2de-b47f-4ba9-8585-a3a87af5fc25",
   "metadata": {},
   "source": [
    "## INCOME"
   ]
  },
  {
   "cell_type": "code",
   "execution_count": 277,
   "id": "218b4e24-a045-495f-bfcd-fc41458cf282",
   "metadata": {},
   "outputs": [
    {
     "name": "stdout",
     "output_type": "stream",
     "text": [
      "   TOTAL\n",
      "0     55    TOTAL\n",
      "0    615    TOTAL\n",
      "0  10535    TOTAL\n",
      "0  60467    TOTAL\n",
      "0   3202\n",
      "   TOTAL\n",
      "0  74874\n"
     ]
    }
   ],
   "source": [
    "#Poor or Near Poor\n",
    "Poor_or_Near_Poor = session.sql( \"\"\"SELECT SUM(TOTAL) AS TOTAL\n",
    "FROM (SELECT COUNT(INCOME) AS TOTAL\n",
    "FROM FILTER_APP_RECORD\n",
    "WHERE INCOME <= 32048\n",
    "GROUP BY INCOME)\"\"\")\n",
    "\n",
    "#LOW MIDDLE INCOME\n",
    "LOW_MIDDLE_INCOME = session.sql( \"\"\"SELECT SUM(TOTAL) AS TOTAL\n",
    "FROM (SELECT COUNT(INCOME) AS TOTAL\n",
    "FROM FILTER_APP_RECORD\n",
    "WHERE INCOME BETWEEN 32048 AND 53413\n",
    "GROUP BY INCOME)\"\"\")\n",
    "\n",
    "# MIDDLE INCOME\n",
    "MIDDLE_INCOME = session.sql( \"\"\"SELECT SUM(TOTAL) AS TOTAL\n",
    "FROM (SELECT COUNT(INCOME) AS TOTAL\n",
    "FROM FILTER_APP_RECORD\n",
    "WHERE INCOME BETWEEN 53413 and 106827\n",
    "GROUP BY INCOME)\"\"\")\n",
    "\n",
    "#UPPER MIDDLE INCOME\n",
    "UPPER_MIDDLE_INCOME = session.sql( \"\"\"SELECT SUM(TOTAL) AS TOTAL\n",
    "FROM (SELECT COUNT(INCOME) AS TOTAL\n",
    "FROM FILTER_APP_RECORD\n",
    "WHERE INCOME BETWEEN 106827 and 373894\n",
    "GROUP BY INCOME)\"\"\")\n",
    "\n",
    "#RICH INCOME\n",
    "RICH_INCOME = session.sql( \"\"\"SELECT SUM(TOTAL) AS TOTAL\n",
    "FROM (SELECT COUNT(INCOME) AS TOTAL\n",
    "FROM FILTER_APP_RECORD\n",
    "WHERE INCOME >= 373894\n",
    "GROUP BY INCOME)\"\"\")\n",
    "\n",
    "\n",
    "\n",
    "\n",
    "poor = Poor_or_Near_Poor.toPandas()\n",
    "low_middle = LOW_MIDDLE_INCOME.toPandas()\n",
    "middle = MIDDLE_INCOME.toPandas()\n",
    "upper_middle = UPPER_MIDDLE_INCOME.toPandas()\n",
    "rich = RICH_INCOME.toPandas()\n",
    "\n",
    "\n",
    "print(poor, low_middle,middle,upper_middle,rich)\n",
    "print(poor + low_middle + middle + upper_middle +rich)\n",
    "\n"
   ]
  },
  {
   "cell_type": "code",
   "execution_count": 308,
   "id": "e3c9efad-a689-456e-b8f4-d9a96a08b900",
   "metadata": {},
   "outputs": [
    {
     "data": {
      "text/html": [
       "<div>\n",
       "<style scoped>\n",
       "    .dataframe tbody tr th:only-of-type {\n",
       "        vertical-align: middle;\n",
       "    }\n",
       "\n",
       "    .dataframe tbody tr th {\n",
       "        vertical-align: top;\n",
       "    }\n",
       "\n",
       "    .dataframe thead th {\n",
       "        text-align: right;\n",
       "    }\n",
       "</style>\n",
       "<table border=\"1\" class=\"dataframe\">\n",
       "  <thead>\n",
       "    <tr style=\"text-align: right;\">\n",
       "      <th></th>\n",
       "      <th>Applicants based on Income</th>\n",
       "    </tr>\n",
       "  </thead>\n",
       "  <tbody>\n",
       "    <tr>\n",
       "      <th>Poor:</th>\n",
       "      <td>55</td>\n",
       "    </tr>\n",
       "    <tr>\n",
       "      <th>Low Middle:</th>\n",
       "      <td>615</td>\n",
       "    </tr>\n",
       "    <tr>\n",
       "      <th>Middle:</th>\n",
       "      <td>10535</td>\n",
       "    </tr>\n",
       "    <tr>\n",
       "      <th>Upper Middle:</th>\n",
       "      <td>60467</td>\n",
       "    </tr>\n",
       "    <tr>\n",
       "      <th>Rich:</th>\n",
       "      <td>3202</td>\n",
       "    </tr>\n",
       "  </tbody>\n",
       "</table>\n",
       "</div>"
      ],
      "text/plain": [
       "              Applicants based on Income\n",
       "Poor:                                 55\n",
       "Low Middle:                          615\n",
       "Middle:                            10535\n",
       "Upper Middle:                      60467\n",
       "Rich:                               3202"
      ]
     },
     "execution_count": 308,
     "metadata": {},
     "output_type": "execute_result"
    }
   ],
   "source": [
    "a = ['55', '615', '10535','60467' ,'3202' ]\n",
    "\n",
    "# print in new line\n",
    "#print(\"Applicants based on Income\")\n",
    "df = pd.DataFrame(a, columns =['Applicants based on Income'], index=['Poor:', 'Low Middle:', 'Middle:' ,'Upper Middle:', 'Rich:'])\n",
    "df\n",
    "\n",
    "#print(*a, sep = \"\\n\")\n"
   ]
  },
  {
   "cell_type": "code",
   "execution_count": 316,
   "id": "0d9307a8-4f23-4d1a-8416-79ee35d9f777",
   "metadata": {},
   "outputs": [
    {
     "data": {
      "image/png": "[encoded data removed]",
      "text/plain": [
       "<Figure size 432x288 with 1 Axes>"
      ]
     },
     "metadata": {
      "needs_background": "light"
     },
     "output_type": "display_data"
    }
   ],
   "source": [
    "df = pd.DataFrame({'Applicants based on Income':['Poor:', 'Low Middle:', 'Middle:' ,'Upper Middle:', 'Rich:'], 'Total':[55, 615, 10535,60467 ,3202]})\n",
    "ax = df.plot.bar(x='Applicants based on Income', y='Total', rot=0)"
   ]
  },
  {
   "cell_type": "markdown",
   "id": "d40ad868-0d67-414b-9fce-3e2d74dbc75c",
   "metadata": {},
   "source": [
    "## EMPLOYMENT STATUS"
   ]
  },
  {
   "cell_type": "code",
   "execution_count": 318,
   "id": "07fa5cb1-830c-4728-9fda-5cfd9ea70d40",
   "metadata": {},
   "outputs": [
    {
     "data": {
      "text/html": [
       "<div>\n",
       "<style scoped>\n",
       "    .dataframe tbody tr th:only-of-type {\n",
       "        vertical-align: middle;\n",
       "    }\n",
       "\n",
       "    .dataframe tbody tr th {\n",
       "        vertical-align: top;\n",
       "    }\n",
       "\n",
       "    .dataframe thead th {\n",
       "        text-align: right;\n",
       "    }\n",
       "</style>\n",
       "<table border=\"1\" class=\"dataframe\">\n",
       "  <thead>\n",
       "    <tr style=\"text-align: right;\">\n",
       "      <th></th>\n",
       "      <th>EMPLOMENT_STATUS</th>\n",
       "      <th>TOTAL</th>\n",
       "    </tr>\n",
       "  </thead>\n",
       "  <tbody>\n",
       "    <tr>\n",
       "      <th>0</th>\n",
       "      <td>Working</td>\n",
       "      <td>38443</td>\n",
       "    </tr>\n",
       "    <tr>\n",
       "      <th>1</th>\n",
       "      <td>Commercial associate</td>\n",
       "      <td>17501</td>\n",
       "    </tr>\n",
       "    <tr>\n",
       "      <th>2</th>\n",
       "      <td>Pensioner</td>\n",
       "      <td>12697</td>\n",
       "    </tr>\n",
       "    <tr>\n",
       "      <th>3</th>\n",
       "      <td>State servant</td>\n",
       "      <td>6204</td>\n",
       "    </tr>\n",
       "    <tr>\n",
       "      <th>4</th>\n",
       "      <td>Student</td>\n",
       "      <td>29</td>\n",
       "    </tr>\n",
       "  </tbody>\n",
       "</table>\n",
       "</div>"
      ],
      "text/plain": [
       "       EMPLOMENT_STATUS  TOTAL\n",
       "0               Working  38443\n",
       "1  Commercial associate  17501\n",
       "2             Pensioner  12697\n",
       "3         State servant   6204\n",
       "4               Student     29"
      ]
     },
     "execution_count": 318,
     "metadata": {},
     "output_type": "execute_result"
    }
   ],
   "source": [
    "##BY EMPLOYMENT STATUS\n",
    "EMPLOYMENT_STATUS = session.sql(\"\"\"SELECT EMPLOMENT_STATUS, COUNT(EMPLOMENT_STATUS) AS TOTAL\n",
    "FROM FILTER_APP_RECORD\n",
    "GROUP BY EMPLOMENT_STATUS\"\"\")\n",
    "\n",
    "EMPLOYMENT_STATUS.toPandas()"
   ]
  },
  {
   "cell_type": "code",
   "execution_count": 325,
   "id": "7557255f-3db1-4945-9af8-17a076752e3f",
   "metadata": {},
   "outputs": [
    {
     "data": {
      "text/plain": [
       "<AxesSubplot:ylabel='EMPLOMENT_STATUS'>"
      ]
     },
     "execution_count": 325,
     "metadata": {},
     "output_type": "execute_result"
    },
    {
     "data": {
      "image/png": "[encoded data removed]",
      "text/plain": [
       "<Figure size 432x288 with 1 Axes>"
      ]
     },
     "metadata": {
      "needs_background": "light"
     },
     "output_type": "display_data"
    }
   ],
   "source": [
    "##BY EMPLOYMENT STATUS\n",
    "EMPLOYMENT_STATUS = session.sql(\"\"\"SELECT EMPLOMENT_STATUS, COUNT(EMPLOMENT_STATUS) AS TOTAL\n",
    "FROM FILTER_APP_RECORD\n",
    "GROUP BY EMPLOMENT_STATUS\"\"\")\n",
    "\n",
    "EMPLOYMENT_STATUS.toPandas().set_index(\"\"\"EMPLOMENT_STATUS\"\"\").plot.barh()"
   ]
  },
  {
   "cell_type": "markdown",
   "id": "758be9ce-96cf-412b-889b-ab16a2c55de0",
   "metadata": {},
   "source": [
    "## EDUCATION LEVEL"
   ]
  },
  {
   "cell_type": "code",
   "execution_count": 322,
   "id": "ab0dfa8a-780f-4a46-b9b6-403ca6907b30",
   "metadata": {},
   "outputs": [
    {
     "data": {
      "text/html": [
       "<div>\n",
       "<style scoped>\n",
       "    .dataframe tbody tr th:only-of-type {\n",
       "        vertical-align: middle;\n",
       "    }\n",
       "\n",
       "    .dataframe tbody tr th {\n",
       "        vertical-align: top;\n",
       "    }\n",
       "\n",
       "    .dataframe thead th {\n",
       "        text-align: right;\n",
       "    }\n",
       "</style>\n",
       "<table border=\"1\" class=\"dataframe\">\n",
       "  <thead>\n",
       "    <tr style=\"text-align: right;\">\n",
       "      <th></th>\n",
       "      <th>EDUCATION_LEVEL</th>\n",
       "      <th>TOTAL</th>\n",
       "      <th>PERCENTAGE</th>\n",
       "    </tr>\n",
       "  </thead>\n",
       "  <tbody>\n",
       "    <tr>\n",
       "      <th>0</th>\n",
       "      <td>Higher education</td>\n",
       "      <td>20412</td>\n",
       "      <td>0.272618</td>\n",
       "    </tr>\n",
       "    <tr>\n",
       "      <th>1</th>\n",
       "      <td>Secondary / secondary special</td>\n",
       "      <td>50627</td>\n",
       "      <td>0.676163</td>\n",
       "    </tr>\n",
       "    <tr>\n",
       "      <th>2</th>\n",
       "      <td>Lower secondary</td>\n",
       "      <td>807</td>\n",
       "      <td>0.010778</td>\n",
       "    </tr>\n",
       "    <tr>\n",
       "      <th>3</th>\n",
       "      <td>Academic degree</td>\n",
       "      <td>76</td>\n",
       "      <td>0.001015</td>\n",
       "    </tr>\n",
       "    <tr>\n",
       "      <th>4</th>\n",
       "      <td>Incomplete higher</td>\n",
       "      <td>2952</td>\n",
       "      <td>0.039426</td>\n",
       "    </tr>\n",
       "  </tbody>\n",
       "</table>\n",
       "</div>"
      ],
      "text/plain": [
       "                 EDUCATION_LEVEL  TOTAL PERCENTAGE\n",
       "0               Higher education  20412   0.272618\n",
       "1  Secondary / secondary special  50627   0.676163\n",
       "2                Lower secondary    807   0.010778\n",
       "3                Academic degree     76   0.001015\n",
       "4              Incomplete higher   2952   0.039426"
      ]
     },
     "execution_count": 322,
     "metadata": {},
     "output_type": "execute_result"
    }
   ],
   "source": [
    "##EDUCATION TYPE\n",
    "EDUCATION_LEVEL = session.sql(\"\"\"SELECT EDUCATION_LEVEL , COUNT(EDUCATION_LEVEL) AS TOTAL\n",
    "FROM FILTER_APP_RECORD\n",
    "GROUP BY EDUCATION_LEVEL\n",
    ";\"\"\")\n",
    "\n",
    "EDUCATION_LEVEL.toPandas().set_index(\"\"\"EDUCATION_LEVEL\"\"\")"
   ]
  },
  {
   "cell_type": "code",
   "execution_count": 324,
   "id": "bad5630b-6847-4a86-b530-f01a4bb13862",
   "metadata": {},
   "outputs": [
    {
     "data": {
      "text/plain": [
       "<AxesSubplot:ylabel='EDUCATION_LEVEL'>"
      ]
     },
     "execution_count": 324,
     "metadata": {},
     "output_type": "execute_result"
    },
    {
     "data": {
      "image/png": "[encoded data removed]",
      "text/plain": [
       "<Figure size 432x288 with 1 Axes>"
      ]
     },
     "metadata": {
      "needs_background": "light"
     },
     "output_type": "display_data"
    }
   ],
   "source": [
    "##EDUCATION TYPE\n",
    "EDUCATION_LEVEL = session.sql(\"\"\"SELECT EDUCATION_LEVEL , COUNT(EDUCATION_LEVEL) AS TOTAL\n",
    "FROM FILTER_APP_RECORD\n",
    "GROUP BY EDUCATION_LEVEL\n",
    ";\"\"\")\n",
    "\n",
    "EDUCATION_LEVEL.toPandas().set_index(\"\"\"EDUCATION_LEVEL\"\"\").plot.barh()"
   ]
  },
  {
   "cell_type": "code",
   "execution_count": null,
   "id": "b66023ff-aadd-4006-8866-f14efeb349ca",
   "metadata": {},
   "outputs": [],
   "source": []
  },
  {
   "cell_type": "markdown",
   "id": "37eef5f9-345c-4a8f-b6fd-cb2b9475bfff",
   "metadata": {},
   "source": [
    "## MARITAL STATUS"
   ]
  },
  {
   "cell_type": "code",
   "execution_count": 263,
   "id": "3b5a8187-60f8-483a-9658-0358999e1b55",
   "metadata": {},
   "outputs": [
    {
     "data": {
      "text/html": [
       "<div>\n",
       "<style scoped>\n",
       "    .dataframe tbody tr th:only-of-type {\n",
       "        vertical-align: middle;\n",
       "    }\n",
       "\n",
       "    .dataframe tbody tr th {\n",
       "        vertical-align: top;\n",
       "    }\n",
       "\n",
       "    .dataframe thead th {\n",
       "        text-align: right;\n",
       "    }\n",
       "</style>\n",
       "<table border=\"1\" class=\"dataframe\">\n",
       "  <thead>\n",
       "    <tr style=\"text-align: right;\">\n",
       "      <th></th>\n",
       "      <th>MARITAL_STATUS</th>\n",
       "      <th>TOTAL</th>\n",
       "    </tr>\n",
       "  </thead>\n",
       "  <tbody>\n",
       "    <tr>\n",
       "      <th>0</th>\n",
       "      <td>Civil marriage</td>\n",
       "      <td>6059</td>\n",
       "    </tr>\n",
       "    <tr>\n",
       "      <th>1</th>\n",
       "      <td>Married</td>\n",
       "      <td>51430</td>\n",
       "    </tr>\n",
       "    <tr>\n",
       "      <th>2</th>\n",
       "      <td>Single / not married</td>\n",
       "      <td>9872</td>\n",
       "    </tr>\n",
       "    <tr>\n",
       "      <th>3</th>\n",
       "      <td>Separated</td>\n",
       "      <td>4362</td>\n",
       "    </tr>\n",
       "    <tr>\n",
       "      <th>4</th>\n",
       "      <td>Widow</td>\n",
       "      <td>3151</td>\n",
       "    </tr>\n",
       "  </tbody>\n",
       "</table>\n",
       "</div>"
      ],
      "text/plain": [
       "         MARITAL_STATUS  TOTAL\n",
       "0        Civil marriage   6059\n",
       "1               Married  51430\n",
       "2  Single / not married   9872\n",
       "3             Separated   4362\n",
       "4                 Widow   3151"
      ]
     },
     "execution_count": 263,
     "metadata": {},
     "output_type": "execute_result"
    }
   ],
   "source": [
    "#  MARITAL_STATUS\n",
    "MARITAL_STATUS = session.sql(\"\"\"SELECT MARITAL_STATUS, COUNT(MARITAL_STATUS) AS TOTAL\n",
    "FROM FILTER_APP_RECORD\n",
    "GROUP BY MARITAL_STATUS\n",
    ";\"\"\")\n",
    "    \n",
    "MARITAL_STATUS.toPandas()"
   ]
  },
  {
   "cell_type": "code",
   "execution_count": 343,
   "id": "216e13a3-9bc7-4654-91c8-674fe7e86550",
   "metadata": {},
   "outputs": [
    {
     "data": {
      "text/plain": [
       "<AxesSubplot:ylabel='MARITAL_STATUS'>"
      ]
     },
     "execution_count": 343,
     "metadata": {},
     "output_type": "execute_result"
    },
    {
     "data": {
      "image/png": "[encoded data removed]",
      "text/plain": [
       "<Figure size 432x288 with 1 Axes>"
      ]
     },
     "metadata": {
      "needs_background": "light"
     },
     "output_type": "display_data"
    }
   ],
   "source": [
    "#  MARITAL_STATUS\n",
    "MARITAL_STATUS = session.sql(\"\"\"SELECT MARITAL_STATUS, COUNT(MARITAL_STATUS) AS TOTAL\n",
    "FROM FILTER_APP_RECORD\n",
    "GROUP BY MARITAL_STATUS\n",
    ";\"\"\")\n",
    "    \n",
    "MARITAL_STATUS.toPandas().set_index(\"\"\"MARITAL_STATUS\"\"\").plot.barh()"
   ]
  },
  {
   "cell_type": "markdown",
   "id": "7f200a9a-93fb-4460-9fad-feb5460dab6c",
   "metadata": {},
   "source": [
    "## HOUSING TYPE"
   ]
  },
  {
   "cell_type": "code",
   "execution_count": 347,
   "id": "53fd71c4-0414-4904-bee8-c68b5127a665",
   "metadata": {},
   "outputs": [
    {
     "data": {
      "text/html": [
       "<div>\n",
       "<style scoped>\n",
       "    .dataframe tbody tr th:only-of-type {\n",
       "        vertical-align: middle;\n",
       "    }\n",
       "\n",
       "    .dataframe tbody tr th {\n",
       "        vertical-align: top;\n",
       "    }\n",
       "\n",
       "    .dataframe thead th {\n",
       "        text-align: right;\n",
       "    }\n",
       "</style>\n",
       "<table border=\"1\" class=\"dataframe\">\n",
       "  <thead>\n",
       "    <tr style=\"text-align: right;\">\n",
       "      <th></th>\n",
       "      <th>TYPE_OF_HOUSING</th>\n",
       "      <th>TOTAL</th>\n",
       "    </tr>\n",
       "  </thead>\n",
       "  <tbody>\n",
       "    <tr>\n",
       "      <th>0</th>\n",
       "      <td>Rented apartment</td>\n",
       "      <td>1182</td>\n",
       "    </tr>\n",
       "    <tr>\n",
       "      <th>1</th>\n",
       "      <td>House / apartment</td>\n",
       "      <td>66780</td>\n",
       "    </tr>\n",
       "    <tr>\n",
       "      <th>2</th>\n",
       "      <td>With parents</td>\n",
       "      <td>3637</td>\n",
       "    </tr>\n",
       "    <tr>\n",
       "      <th>3</th>\n",
       "      <td>Municipal apartment</td>\n",
       "      <td>2390</td>\n",
       "    </tr>\n",
       "    <tr>\n",
       "      <th>4</th>\n",
       "      <td>Co-op apartment</td>\n",
       "      <td>336</td>\n",
       "    </tr>\n",
       "    <tr>\n",
       "      <th>5</th>\n",
       "      <td>Office apartment</td>\n",
       "      <td>549</td>\n",
       "    </tr>\n",
       "  </tbody>\n",
       "</table>\n",
       "</div>"
      ],
      "text/plain": [
       "       TYPE_OF_HOUSING  TOTAL\n",
       "0     Rented apartment   1182\n",
       "1    House / apartment  66780\n",
       "2         With parents   3637\n",
       "3  Municipal apartment   2390\n",
       "4      Co-op apartment    336\n",
       "5     Office apartment    549"
      ]
     },
     "execution_count": 347,
     "metadata": {},
     "output_type": "execute_result"
    }
   ],
   "source": [
    "##HOUSING TYPE\n",
    "HOUSING_TYPE = session.sql(\"\"\"\n",
    "SELECT TYPE_OF_HOUSING, COUNT(TYPE_OF_HOUSING) AS TOTAL\n",
    "FROM FILTER_APP_RECORD\n",
    "GROUP BY TYPE_OF_HOUSING;\"\"\")\n",
    "\n",
    "HOUSING_TYPE.toPandas()"
   ]
  },
  {
   "cell_type": "code",
   "execution_count": 348,
   "id": "47a74569-c112-4e1d-9935-158d47ee0d03",
   "metadata": {},
   "outputs": [
    {
     "data": {
      "text/plain": [
       "<AxesSubplot:ylabel='TYPE_OF_HOUSING'>"
      ]
     },
     "execution_count": 348,
     "metadata": {},
     "output_type": "execute_result"
    },
    {
     "data": {
      "image/png": "[encoded data removed]",
      "text/plain": [
       "<Figure size 432x288 with 1 Axes>"
      ]
     },
     "metadata": {
      "needs_background": "light"
     },
     "output_type": "display_data"
    }
   ],
   "source": [
    "HOUSING_TYPE.toPandas().set_index(\"\"\"TYPE_OF_HOUSING\"\"\").plot.barh()"
   ]
  },
  {
   "cell_type": "markdown",
   "id": "01a2d001-81f5-46cb-af17-234667e3fe09",
   "metadata": {},
   "source": [
    "## BY AGE "
   ]
  },
  {
   "cell_type": "code",
   "execution_count": 368,
   "id": "3b28d88f-0c98-4601-9d91-280cef844e1e",
   "metadata": {},
   "outputs": [
    {
     "data": {
      "text/html": [
       "<div>\n",
       "<style scoped>\n",
       "    .dataframe tbody tr th:only-of-type {\n",
       "        vertical-align: middle;\n",
       "    }\n",
       "\n",
       "    .dataframe tbody tr th {\n",
       "        vertical-align: top;\n",
       "    }\n",
       "\n",
       "    .dataframe thead th {\n",
       "        text-align: right;\n",
       "    }\n",
       "</style>\n",
       "<table border=\"1\" class=\"dataframe\">\n",
       "  <thead>\n",
       "    <tr style=\"text-align: right;\">\n",
       "      <th></th>\n",
       "      <th>YEARS_OLD</th>\n",
       "      <th>TOTAL</th>\n",
       "    </tr>\n",
       "  </thead>\n",
       "  <tbody>\n",
       "    <tr>\n",
       "      <th>0</th>\n",
       "      <td>69</td>\n",
       "      <td>13</td>\n",
       "    </tr>\n",
       "    <tr>\n",
       "      <th>1</th>\n",
       "      <td>68</td>\n",
       "      <td>184</td>\n",
       "    </tr>\n",
       "    <tr>\n",
       "      <th>2</th>\n",
       "      <td>67</td>\n",
       "      <td>456</td>\n",
       "    </tr>\n",
       "    <tr>\n",
       "      <th>3</th>\n",
       "      <td>66</td>\n",
       "      <td>503</td>\n",
       "    </tr>\n",
       "    <tr>\n",
       "      <th>4</th>\n",
       "      <td>65</td>\n",
       "      <td>947</td>\n",
       "    </tr>\n",
       "    <tr>\n",
       "      <th>5</th>\n",
       "      <td>64</td>\n",
       "      <td>1196</td>\n",
       "    </tr>\n",
       "    <tr>\n",
       "      <th>6</th>\n",
       "      <td>63</td>\n",
       "      <td>1133</td>\n",
       "    </tr>\n",
       "    <tr>\n",
       "      <th>7</th>\n",
       "      <td>62</td>\n",
       "      <td>1252</td>\n",
       "    </tr>\n",
       "    <tr>\n",
       "      <th>8</th>\n",
       "      <td>61</td>\n",
       "      <td>1478</td>\n",
       "    </tr>\n",
       "    <tr>\n",
       "      <th>9</th>\n",
       "      <td>60</td>\n",
       "      <td>1682</td>\n",
       "    </tr>\n",
       "    <tr>\n",
       "      <th>10</th>\n",
       "      <td>59</td>\n",
       "      <td>1695</td>\n",
       "    </tr>\n",
       "    <tr>\n",
       "      <th>11</th>\n",
       "      <td>58</td>\n",
       "      <td>1544</td>\n",
       "    </tr>\n",
       "    <tr>\n",
       "      <th>12</th>\n",
       "      <td>57</td>\n",
       "      <td>1602</td>\n",
       "    </tr>\n",
       "    <tr>\n",
       "      <th>13</th>\n",
       "      <td>56</td>\n",
       "      <td>1507</td>\n",
       "    </tr>\n",
       "    <tr>\n",
       "      <th>14</th>\n",
       "      <td>55</td>\n",
       "      <td>1657</td>\n",
       "    </tr>\n",
       "    <tr>\n",
       "      <th>15</th>\n",
       "      <td>54</td>\n",
       "      <td>1623</td>\n",
       "    </tr>\n",
       "    <tr>\n",
       "      <th>16</th>\n",
       "      <td>53</td>\n",
       "      <td>1497</td>\n",
       "    </tr>\n",
       "    <tr>\n",
       "      <th>17</th>\n",
       "      <td>52</td>\n",
       "      <td>1872</td>\n",
       "    </tr>\n",
       "    <tr>\n",
       "      <th>18</th>\n",
       "      <td>51</td>\n",
       "      <td>1827</td>\n",
       "    </tr>\n",
       "    <tr>\n",
       "      <th>19</th>\n",
       "      <td>50</td>\n",
       "      <td>1545</td>\n",
       "    </tr>\n",
       "    <tr>\n",
       "      <th>20</th>\n",
       "      <td>49</td>\n",
       "      <td>1799</td>\n",
       "    </tr>\n",
       "    <tr>\n",
       "      <th>21</th>\n",
       "      <td>48</td>\n",
       "      <td>1699</td>\n",
       "    </tr>\n",
       "    <tr>\n",
       "      <th>22</th>\n",
       "      <td>47</td>\n",
       "      <td>1752</td>\n",
       "    </tr>\n",
       "    <tr>\n",
       "      <th>23</th>\n",
       "      <td>46</td>\n",
       "      <td>1717</td>\n",
       "    </tr>\n",
       "    <tr>\n",
       "      <th>24</th>\n",
       "      <td>45</td>\n",
       "      <td>1801</td>\n",
       "    </tr>\n",
       "    <tr>\n",
       "      <th>25</th>\n",
       "      <td>44</td>\n",
       "      <td>2070</td>\n",
       "    </tr>\n",
       "    <tr>\n",
       "      <th>26</th>\n",
       "      <td>43</td>\n",
       "      <td>1936</td>\n",
       "    </tr>\n",
       "    <tr>\n",
       "      <th>27</th>\n",
       "      <td>42</td>\n",
       "      <td>2137</td>\n",
       "    </tr>\n",
       "    <tr>\n",
       "      <th>28</th>\n",
       "      <td>41</td>\n",
       "      <td>2235</td>\n",
       "    </tr>\n",
       "    <tr>\n",
       "      <th>29</th>\n",
       "      <td>40</td>\n",
       "      <td>2302</td>\n",
       "    </tr>\n",
       "    <tr>\n",
       "      <th>30</th>\n",
       "      <td>39</td>\n",
       "      <td>2428</td>\n",
       "    </tr>\n",
       "    <tr>\n",
       "      <th>31</th>\n",
       "      <td>38</td>\n",
       "      <td>1934</td>\n",
       "    </tr>\n",
       "    <tr>\n",
       "      <th>32</th>\n",
       "      <td>37</td>\n",
       "      <td>2275</td>\n",
       "    </tr>\n",
       "    <tr>\n",
       "      <th>33</th>\n",
       "      <td>36</td>\n",
       "      <td>1921</td>\n",
       "    </tr>\n",
       "    <tr>\n",
       "      <th>34</th>\n",
       "      <td>35</td>\n",
       "      <td>2161</td>\n",
       "    </tr>\n",
       "    <tr>\n",
       "      <th>35</th>\n",
       "      <td>34</td>\n",
       "      <td>2264</td>\n",
       "    </tr>\n",
       "    <tr>\n",
       "      <th>36</th>\n",
       "      <td>33</td>\n",
       "      <td>2112</td>\n",
       "    </tr>\n",
       "    <tr>\n",
       "      <th>37</th>\n",
       "      <td>32</td>\n",
       "      <td>2054</td>\n",
       "    </tr>\n",
       "    <tr>\n",
       "      <th>38</th>\n",
       "      <td>31</td>\n",
       "      <td>1761</td>\n",
       "    </tr>\n",
       "    <tr>\n",
       "      <th>39</th>\n",
       "      <td>30</td>\n",
       "      <td>2147</td>\n",
       "    </tr>\n",
       "    <tr>\n",
       "      <th>40</th>\n",
       "      <td>29</td>\n",
       "      <td>2281</td>\n",
       "    </tr>\n",
       "    <tr>\n",
       "      <th>41</th>\n",
       "      <td>28</td>\n",
       "      <td>2254</td>\n",
       "    </tr>\n",
       "    <tr>\n",
       "      <th>42</th>\n",
       "      <td>27</td>\n",
       "      <td>1710</td>\n",
       "    </tr>\n",
       "    <tr>\n",
       "      <th>43</th>\n",
       "      <td>26</td>\n",
       "      <td>1029</td>\n",
       "    </tr>\n",
       "    <tr>\n",
       "      <th>44</th>\n",
       "      <td>25</td>\n",
       "      <td>902</td>\n",
       "    </tr>\n",
       "    <tr>\n",
       "      <th>45</th>\n",
       "      <td>24</td>\n",
       "      <td>453</td>\n",
       "    </tr>\n",
       "    <tr>\n",
       "      <th>46</th>\n",
       "      <td>23</td>\n",
       "      <td>415</td>\n",
       "    </tr>\n",
       "    <tr>\n",
       "      <th>47</th>\n",
       "      <td>22</td>\n",
       "      <td>97</td>\n",
       "    </tr>\n",
       "    <tr>\n",
       "      <th>48</th>\n",
       "      <td>21</td>\n",
       "      <td>15</td>\n",
       "    </tr>\n",
       "  </tbody>\n",
       "</table>\n",
       "</div>"
      ],
      "text/plain": [
       "    YEARS_OLD  TOTAL\n",
       "0          69     13\n",
       "1          68    184\n",
       "2          67    456\n",
       "3          66    503\n",
       "4          65    947\n",
       "5          64   1196\n",
       "6          63   1133\n",
       "7          62   1252\n",
       "8          61   1478\n",
       "9          60   1682\n",
       "10         59   1695\n",
       "11         58   1544\n",
       "12         57   1602\n",
       "13         56   1507\n",
       "14         55   1657\n",
       "15         54   1623\n",
       "16         53   1497\n",
       "17         52   1872\n",
       "18         51   1827\n",
       "19         50   1545\n",
       "20         49   1799\n",
       "21         48   1699\n",
       "22         47   1752\n",
       "23         46   1717\n",
       "24         45   1801\n",
       "25         44   2070\n",
       "26         43   1936\n",
       "27         42   2137\n",
       "28         41   2235\n",
       "29         40   2302\n",
       "30         39   2428\n",
       "31         38   1934\n",
       "32         37   2275\n",
       "33         36   1921\n",
       "34         35   2161\n",
       "35         34   2264\n",
       "36         33   2112\n",
       "37         32   2054\n",
       "38         31   1761\n",
       "39         30   2147\n",
       "40         29   2281\n",
       "41         28   2254\n",
       "42         27   1710\n",
       "43         26   1029\n",
       "44         25    902\n",
       "45         24    453\n",
       "46         23    415\n",
       "47         22     97\n",
       "48         21     15"
      ]
     },
     "execution_count": 368,
     "metadata": {},
     "output_type": "execute_result"
    }
   ],
   "source": [
    "##BY AGE\n",
    "BY_AGE = session.sql(\"\"\"\n",
    "SELECT ROUND(AGE/365) AS YEARS_OLD, count(YEARS_OLD) AS TOTAL \n",
    "FROM FILTER_APP_RECORD\n",
    "WHERE YEARS_OLD BETWEEN '-80' AND '-20'\n",
    "GROUP BY YEARS_OLD\n",
    "ORDER BY YEARS_OLD\"\"\")\n",
    "\n",
    "\n",
    "x = BY_AGE.toPandas()\n",
    "abs(x)"
   ]
  },
  {
   "cell_type": "code",
   "execution_count": 433,
   "id": "cd6a33e4-5c4f-452c-882a-2f4055f40e25",
   "metadata": {},
   "outputs": [
    {
     "data": {
      "text/html": [
       "<div>\n",
       "<style scoped>\n",
       "    .dataframe tbody tr th:only-of-type {\n",
       "        vertical-align: middle;\n",
       "    }\n",
       "\n",
       "    .dataframe tbody tr th {\n",
       "        vertical-align: top;\n",
       "    }\n",
       "\n",
       "    .dataframe thead th {\n",
       "        text-align: right;\n",
       "    }\n",
       "</style>\n",
       "<table border=\"1\" class=\"dataframe\">\n",
       "  <thead>\n",
       "    <tr style=\"text-align: right;\">\n",
       "      <th></th>\n",
       "      <th>YEARS_OLD</th>\n",
       "      <th>TOTAL</th>\n",
       "    </tr>\n",
       "  </thead>\n",
       "  <tbody>\n",
       "    <tr>\n",
       "      <th>0</th>\n",
       "      <td>39</td>\n",
       "      <td>2428</td>\n",
       "    </tr>\n",
       "    <tr>\n",
       "      <th>1</th>\n",
       "      <td>40</td>\n",
       "      <td>2302</td>\n",
       "    </tr>\n",
       "    <tr>\n",
       "      <th>2</th>\n",
       "      <td>29</td>\n",
       "      <td>2281</td>\n",
       "    </tr>\n",
       "    <tr>\n",
       "      <th>3</th>\n",
       "      <td>37</td>\n",
       "      <td>2275</td>\n",
       "    </tr>\n",
       "    <tr>\n",
       "      <th>4</th>\n",
       "      <td>34</td>\n",
       "      <td>2264</td>\n",
       "    </tr>\n",
       "    <tr>\n",
       "      <th>5</th>\n",
       "      <td>28</td>\n",
       "      <td>2254</td>\n",
       "    </tr>\n",
       "    <tr>\n",
       "      <th>6</th>\n",
       "      <td>41</td>\n",
       "      <td>2235</td>\n",
       "    </tr>\n",
       "    <tr>\n",
       "      <th>7</th>\n",
       "      <td>35</td>\n",
       "      <td>2161</td>\n",
       "    </tr>\n",
       "    <tr>\n",
       "      <th>8</th>\n",
       "      <td>30</td>\n",
       "      <td>2147</td>\n",
       "    </tr>\n",
       "    <tr>\n",
       "      <th>9</th>\n",
       "      <td>42</td>\n",
       "      <td>2137</td>\n",
       "    </tr>\n",
       "    <tr>\n",
       "      <th>10</th>\n",
       "      <td>33</td>\n",
       "      <td>2112</td>\n",
       "    </tr>\n",
       "    <tr>\n",
       "      <th>11</th>\n",
       "      <td>44</td>\n",
       "      <td>2070</td>\n",
       "    </tr>\n",
       "    <tr>\n",
       "      <th>12</th>\n",
       "      <td>32</td>\n",
       "      <td>2054</td>\n",
       "    </tr>\n",
       "    <tr>\n",
       "      <th>13</th>\n",
       "      <td>43</td>\n",
       "      <td>1936</td>\n",
       "    </tr>\n",
       "    <tr>\n",
       "      <th>14</th>\n",
       "      <td>38</td>\n",
       "      <td>1934</td>\n",
       "    </tr>\n",
       "    <tr>\n",
       "      <th>15</th>\n",
       "      <td>36</td>\n",
       "      <td>1921</td>\n",
       "    </tr>\n",
       "    <tr>\n",
       "      <th>16</th>\n",
       "      <td>52</td>\n",
       "      <td>1872</td>\n",
       "    </tr>\n",
       "    <tr>\n",
       "      <th>17</th>\n",
       "      <td>51</td>\n",
       "      <td>1827</td>\n",
       "    </tr>\n",
       "    <tr>\n",
       "      <th>18</th>\n",
       "      <td>45</td>\n",
       "      <td>1801</td>\n",
       "    </tr>\n",
       "    <tr>\n",
       "      <th>19</th>\n",
       "      <td>49</td>\n",
       "      <td>1799</td>\n",
       "    </tr>\n",
       "    <tr>\n",
       "      <th>20</th>\n",
       "      <td>31</td>\n",
       "      <td>1761</td>\n",
       "    </tr>\n",
       "    <tr>\n",
       "      <th>21</th>\n",
       "      <td>47</td>\n",
       "      <td>1752</td>\n",
       "    </tr>\n",
       "    <tr>\n",
       "      <th>22</th>\n",
       "      <td>46</td>\n",
       "      <td>1717</td>\n",
       "    </tr>\n",
       "    <tr>\n",
       "      <th>23</th>\n",
       "      <td>27</td>\n",
       "      <td>1710</td>\n",
       "    </tr>\n",
       "    <tr>\n",
       "      <th>24</th>\n",
       "      <td>48</td>\n",
       "      <td>1699</td>\n",
       "    </tr>\n",
       "    <tr>\n",
       "      <th>25</th>\n",
       "      <td>59</td>\n",
       "      <td>1695</td>\n",
       "    </tr>\n",
       "    <tr>\n",
       "      <th>26</th>\n",
       "      <td>60</td>\n",
       "      <td>1682</td>\n",
       "    </tr>\n",
       "    <tr>\n",
       "      <th>27</th>\n",
       "      <td>55</td>\n",
       "      <td>1657</td>\n",
       "    </tr>\n",
       "    <tr>\n",
       "      <th>28</th>\n",
       "      <td>54</td>\n",
       "      <td>1623</td>\n",
       "    </tr>\n",
       "    <tr>\n",
       "      <th>29</th>\n",
       "      <td>57</td>\n",
       "      <td>1602</td>\n",
       "    </tr>\n",
       "    <tr>\n",
       "      <th>30</th>\n",
       "      <td>50</td>\n",
       "      <td>1545</td>\n",
       "    </tr>\n",
       "    <tr>\n",
       "      <th>31</th>\n",
       "      <td>58</td>\n",
       "      <td>1544</td>\n",
       "    </tr>\n",
       "    <tr>\n",
       "      <th>32</th>\n",
       "      <td>56</td>\n",
       "      <td>1507</td>\n",
       "    </tr>\n",
       "    <tr>\n",
       "      <th>33</th>\n",
       "      <td>53</td>\n",
       "      <td>1497</td>\n",
       "    </tr>\n",
       "    <tr>\n",
       "      <th>34</th>\n",
       "      <td>61</td>\n",
       "      <td>1478</td>\n",
       "    </tr>\n",
       "    <tr>\n",
       "      <th>35</th>\n",
       "      <td>62</td>\n",
       "      <td>1252</td>\n",
       "    </tr>\n",
       "    <tr>\n",
       "      <th>36</th>\n",
       "      <td>64</td>\n",
       "      <td>1196</td>\n",
       "    </tr>\n",
       "    <tr>\n",
       "      <th>37</th>\n",
       "      <td>63</td>\n",
       "      <td>1133</td>\n",
       "    </tr>\n",
       "    <tr>\n",
       "      <th>38</th>\n",
       "      <td>26</td>\n",
       "      <td>1029</td>\n",
       "    </tr>\n",
       "    <tr>\n",
       "      <th>39</th>\n",
       "      <td>65</td>\n",
       "      <td>947</td>\n",
       "    </tr>\n",
       "    <tr>\n",
       "      <th>40</th>\n",
       "      <td>25</td>\n",
       "      <td>902</td>\n",
       "    </tr>\n",
       "    <tr>\n",
       "      <th>41</th>\n",
       "      <td>66</td>\n",
       "      <td>503</td>\n",
       "    </tr>\n",
       "    <tr>\n",
       "      <th>42</th>\n",
       "      <td>67</td>\n",
       "      <td>456</td>\n",
       "    </tr>\n",
       "    <tr>\n",
       "      <th>43</th>\n",
       "      <td>24</td>\n",
       "      <td>453</td>\n",
       "    </tr>\n",
       "    <tr>\n",
       "      <th>44</th>\n",
       "      <td>23</td>\n",
       "      <td>415</td>\n",
       "    </tr>\n",
       "    <tr>\n",
       "      <th>45</th>\n",
       "      <td>68</td>\n",
       "      <td>184</td>\n",
       "    </tr>\n",
       "    <tr>\n",
       "      <th>46</th>\n",
       "      <td>22</td>\n",
       "      <td>97</td>\n",
       "    </tr>\n",
       "    <tr>\n",
       "      <th>47</th>\n",
       "      <td>21</td>\n",
       "      <td>15</td>\n",
       "    </tr>\n",
       "    <tr>\n",
       "      <th>48</th>\n",
       "      <td>69</td>\n",
       "      <td>13</td>\n",
       "    </tr>\n",
       "  </tbody>\n",
       "</table>\n",
       "</div>"
      ],
      "text/plain": [
       "    YEARS_OLD  TOTAL\n",
       "0          39   2428\n",
       "1          40   2302\n",
       "2          29   2281\n",
       "3          37   2275\n",
       "4          34   2264\n",
       "5          28   2254\n",
       "6          41   2235\n",
       "7          35   2161\n",
       "8          30   2147\n",
       "9          42   2137\n",
       "10         33   2112\n",
       "11         44   2070\n",
       "12         32   2054\n",
       "13         43   1936\n",
       "14         38   1934\n",
       "15         36   1921\n",
       "16         52   1872\n",
       "17         51   1827\n",
       "18         45   1801\n",
       "19         49   1799\n",
       "20         31   1761\n",
       "21         47   1752\n",
       "22         46   1717\n",
       "23         27   1710\n",
       "24         48   1699\n",
       "25         59   1695\n",
       "26         60   1682\n",
       "27         55   1657\n",
       "28         54   1623\n",
       "29         57   1602\n",
       "30         50   1545\n",
       "31         58   1544\n",
       "32         56   1507\n",
       "33         53   1497\n",
       "34         61   1478\n",
       "35         62   1252\n",
       "36         64   1196\n",
       "37         63   1133\n",
       "38         26   1029\n",
       "39         65    947\n",
       "40         25    902\n",
       "41         66    503\n",
       "42         67    456\n",
       "43         24    453\n",
       "44         23    415\n",
       "45         68    184\n",
       "46         22     97\n",
       "47         21     15\n",
       "48         69     13"
      ]
     },
     "execution_count": 433,
     "metadata": {},
     "output_type": "execute_result"
    }
   ],
   "source": [
    "##Order by Total\n",
    "BY_AGE = session.sql(\"\"\"\n",
    "SELECT ROUND(AGE/365) AS YEARS_OLD, count(YEARS_OLD) AS TOTAL \n",
    "FROM FILTER_APP_RECORD\n",
    "WHERE YEARS_OLD BETWEEN '-80' AND '-20'\n",
    "GROUP BY YEARS_OLD\n",
    "ORDER BY TOTAL DESC\"\"\")\n",
    "\n",
    "\n",
    "x = BY_AGE.toPandas()\n",
    "abs(x)"
   ]
  },
  {
   "cell_type": "code",
   "execution_count": 434,
   "id": "029fcc00-b1bf-4e09-b47b-04ee174187e2",
   "metadata": {},
   "outputs": [
    {
     "data": {
      "text/plain": [
       "<AxesSubplot:>"
      ]
     },
     "execution_count": 434,
     "metadata": {},
     "output_type": "execute_result"
    },
    {
     "data": {
      "image/png": "[encoded data removed]",
      "text/plain": [
       "<Figure size 432x288 with 1 Axes>"
      ]
     },
     "metadata": {
      "needs_background": "light"
     },
     "output_type": "display_data"
    }
   ],
   "source": [
    "##Box Table\n",
    "BY_AGE = session.sql(\"\"\"\n",
    "SELECT ABS(YEARS_OLD) AS YEARS_OLD\n",
    "FROM (SELECT ROUND(AGE/365) AS YEARS_OLD\n",
    "FROM FILTER_APP_RECORD\n",
    "WHERE YEARS_OLD BETWEEN -80 AND -20\n",
    "GROUP BY YEARS_OLD\n",
    ") \n",
    "ORDER BY YEARS_OLD\"\"\")\n",
    "\n",
    "\n",
    "x = BY_AGE.toPandas().plot.box()\n",
    "x"
   ]
  },
  {
   "cell_type": "markdown",
   "id": "6faa5c27-ced7-44d4-ac80-4561c6aa5eab",
   "metadata": {},
   "source": [
    "## DAYS EMPLOYED"
   ]
  },
  {
   "cell_type": "code",
   "execution_count": 436,
   "id": "36c263a8-c0f6-4a1f-b0dd-5b4ea4ae80e1",
   "metadata": {},
   "outputs": [
    {
     "data": {
      "text/html": [
       "<div>\n",
       "<style scoped>\n",
       "    .dataframe tbody tr th:only-of-type {\n",
       "        vertical-align: middle;\n",
       "    }\n",
       "\n",
       "    .dataframe tbody tr th {\n",
       "        vertical-align: top;\n",
       "    }\n",
       "\n",
       "    .dataframe thead th {\n",
       "        text-align: right;\n",
       "    }\n",
       "</style>\n",
       "<table border=\"1\" class=\"dataframe\">\n",
       "  <thead>\n",
       "    <tr style=\"text-align: right;\">\n",
       "      <th></th>\n",
       "      <th>YEARS_EMPLOYED</th>\n",
       "    </tr>\n",
       "  </thead>\n",
       "  <tbody>\n",
       "    <tr>\n",
       "      <th>0</th>\n",
       "      <td>43</td>\n",
       "    </tr>\n",
       "    <tr>\n",
       "      <th>1</th>\n",
       "      <td>42</td>\n",
       "    </tr>\n",
       "    <tr>\n",
       "      <th>2</th>\n",
       "      <td>41</td>\n",
       "    </tr>\n",
       "    <tr>\n",
       "      <th>3</th>\n",
       "      <td>40</td>\n",
       "    </tr>\n",
       "    <tr>\n",
       "      <th>4</th>\n",
       "      <td>39</td>\n",
       "    </tr>\n",
       "    <tr>\n",
       "      <th>5</th>\n",
       "      <td>38</td>\n",
       "    </tr>\n",
       "    <tr>\n",
       "      <th>6</th>\n",
       "      <td>37</td>\n",
       "    </tr>\n",
       "    <tr>\n",
       "      <th>7</th>\n",
       "      <td>36</td>\n",
       "    </tr>\n",
       "    <tr>\n",
       "      <th>8</th>\n",
       "      <td>35</td>\n",
       "    </tr>\n",
       "    <tr>\n",
       "      <th>9</th>\n",
       "      <td>34</td>\n",
       "    </tr>\n",
       "    <tr>\n",
       "      <th>10</th>\n",
       "      <td>33</td>\n",
       "    </tr>\n",
       "    <tr>\n",
       "      <th>11</th>\n",
       "      <td>32</td>\n",
       "    </tr>\n",
       "    <tr>\n",
       "      <th>12</th>\n",
       "      <td>31</td>\n",
       "    </tr>\n",
       "    <tr>\n",
       "      <th>13</th>\n",
       "      <td>30</td>\n",
       "    </tr>\n",
       "    <tr>\n",
       "      <th>14</th>\n",
       "      <td>29</td>\n",
       "    </tr>\n",
       "    <tr>\n",
       "      <th>15</th>\n",
       "      <td>28</td>\n",
       "    </tr>\n",
       "    <tr>\n",
       "      <th>16</th>\n",
       "      <td>27</td>\n",
       "    </tr>\n",
       "    <tr>\n",
       "      <th>17</th>\n",
       "      <td>26</td>\n",
       "    </tr>\n",
       "    <tr>\n",
       "      <th>18</th>\n",
       "      <td>25</td>\n",
       "    </tr>\n",
       "    <tr>\n",
       "      <th>19</th>\n",
       "      <td>24</td>\n",
       "    </tr>\n",
       "    <tr>\n",
       "      <th>20</th>\n",
       "      <td>23</td>\n",
       "    </tr>\n",
       "    <tr>\n",
       "      <th>21</th>\n",
       "      <td>22</td>\n",
       "    </tr>\n",
       "    <tr>\n",
       "      <th>22</th>\n",
       "      <td>21</td>\n",
       "    </tr>\n",
       "    <tr>\n",
       "      <th>23</th>\n",
       "      <td>20</td>\n",
       "    </tr>\n",
       "    <tr>\n",
       "      <th>24</th>\n",
       "      <td>19</td>\n",
       "    </tr>\n",
       "    <tr>\n",
       "      <th>25</th>\n",
       "      <td>18</td>\n",
       "    </tr>\n",
       "    <tr>\n",
       "      <th>26</th>\n",
       "      <td>17</td>\n",
       "    </tr>\n",
       "    <tr>\n",
       "      <th>27</th>\n",
       "      <td>16</td>\n",
       "    </tr>\n",
       "    <tr>\n",
       "      <th>28</th>\n",
       "      <td>15</td>\n",
       "    </tr>\n",
       "    <tr>\n",
       "      <th>29</th>\n",
       "      <td>14</td>\n",
       "    </tr>\n",
       "    <tr>\n",
       "      <th>30</th>\n",
       "      <td>13</td>\n",
       "    </tr>\n",
       "    <tr>\n",
       "      <th>31</th>\n",
       "      <td>12</td>\n",
       "    </tr>\n",
       "    <tr>\n",
       "      <th>32</th>\n",
       "      <td>11</td>\n",
       "    </tr>\n",
       "    <tr>\n",
       "      <th>33</th>\n",
       "      <td>10</td>\n",
       "    </tr>\n",
       "    <tr>\n",
       "      <th>34</th>\n",
       "      <td>9</td>\n",
       "    </tr>\n",
       "    <tr>\n",
       "      <th>35</th>\n",
       "      <td>8</td>\n",
       "    </tr>\n",
       "    <tr>\n",
       "      <th>36</th>\n",
       "      <td>7</td>\n",
       "    </tr>\n",
       "    <tr>\n",
       "      <th>37</th>\n",
       "      <td>6</td>\n",
       "    </tr>\n",
       "    <tr>\n",
       "      <th>38</th>\n",
       "      <td>5</td>\n",
       "    </tr>\n",
       "    <tr>\n",
       "      <th>39</th>\n",
       "      <td>4</td>\n",
       "    </tr>\n",
       "    <tr>\n",
       "      <th>40</th>\n",
       "      <td>3</td>\n",
       "    </tr>\n",
       "    <tr>\n",
       "      <th>41</th>\n",
       "      <td>2</td>\n",
       "    </tr>\n",
       "    <tr>\n",
       "      <th>42</th>\n",
       "      <td>1</td>\n",
       "    </tr>\n",
       "  </tbody>\n",
       "</table>\n",
       "</div>"
      ],
      "text/plain": [
       "    YEARS_EMPLOYED\n",
       "0               43\n",
       "1               42\n",
       "2               41\n",
       "3               40\n",
       "4               39\n",
       "5               38\n",
       "6               37\n",
       "7               36\n",
       "8               35\n",
       "9               34\n",
       "10              33\n",
       "11              32\n",
       "12              31\n",
       "13              30\n",
       "14              29\n",
       "15              28\n",
       "16              27\n",
       "17              26\n",
       "18              25\n",
       "19              24\n",
       "20              23\n",
       "21              22\n",
       "22              21\n",
       "23              20\n",
       "24              19\n",
       "25              18\n",
       "26              17\n",
       "27              16\n",
       "28              15\n",
       "29              14\n",
       "30              13\n",
       "31              12\n",
       "32              11\n",
       "33              10\n",
       "34               9\n",
       "35               8\n",
       "36               7\n",
       "37               6\n",
       "38               5\n",
       "39               4\n",
       "40               3\n",
       "41               2\n",
       "42               1"
      ]
     },
     "execution_count": 436,
     "metadata": {},
     "output_type": "execute_result"
    }
   ],
   "source": [
    "## YEARS EMPLOYED DESC\n",
    "DAYS_EMPLOYED = session.sql(\"\"\"\n",
    "SELECT ROUND(EMPLOMENT_LENGTH/365) AS YEARS_EMPLOYED\n",
    "FROM FILTER_APP_RECORD\n",
    "WHERE YEARS_EMPLOYED BETWEEN -50 AND -1\n",
    "GROUP BY YEARS_EMPLOYED\n",
    "ORDER BY YEARS_EMPLOYED\n",
    ";\"\"\")\n",
    "\n",
    "x = DAYS_EMPLOYED.toPandas()\n",
    "abs(x)"
   ]
  },
  {
   "cell_type": "code",
   "execution_count": 445,
   "id": "396cecee-df8d-4e79-b8e6-98f989c29c9f",
   "metadata": {},
   "outputs": [
    {
     "data": {
      "text/plain": [
       "<AxesSubplot:>"
      ]
     },
     "execution_count": 445,
     "metadata": {},
     "output_type": "execute_result"
    },
    {
     "data": {
      "image/png": "[encoded data removed]",
      "text/plain": [
       "<Figure size 432x288 with 1 Axes>"
      ]
     },
     "metadata": {
      "needs_background": "light"
     },
     "output_type": "display_data"
    }
   ],
   "source": [
    "DAYS_EMPLOYED = session.sql(\"\"\"\n",
    "SELECT ABS(YEARS_EMPLOYED) AS YEARS_EMPLOYED\n",
    "FROM (SELECT ROUND(EMPLOMENT_LENGTH/365) AS YEARS_EMPLOYED\n",
    "FROM FILTER_APP_RECORD\n",
    "WHERE YEARS_EMPLOYED BETWEEN -50 AND -1\n",
    "GROUP BY YEARS_EMPLOYED)\n",
    "ORDER BY YEARS_EMPLOYED\n",
    "\"\"\")\n",
    "\n",
    "x = DAYS_EMPLOYED.toPandas().plot.box()\n",
    "x"
   ]
  },
  {
   "cell_type": "markdown",
   "id": "1e481bbd-0e5e-4dfd-b32d-f1e70ce6f8f7",
   "metadata": {},
   "source": [
    "## HAS A PHONE"
   ]
  },
  {
   "cell_type": "code",
   "execution_count": 449,
   "id": "6c984fdd-7f62-4797-8407-de957a99563a",
   "metadata": {},
   "outputs": [
    {
     "data": {
      "text/html": [
       "<div>\n",
       "<style scoped>\n",
       "    .dataframe tbody tr th:only-of-type {\n",
       "        vertical-align: middle;\n",
       "    }\n",
       "\n",
       "    .dataframe tbody tr th {\n",
       "        vertical-align: top;\n",
       "    }\n",
       "\n",
       "    .dataframe thead th {\n",
       "        text-align: right;\n",
       "    }\n",
       "</style>\n",
       "<table border=\"1\" class=\"dataframe\">\n",
       "  <thead>\n",
       "    <tr style=\"text-align: right;\">\n",
       "      <th></th>\n",
       "      <th>HAS_A_PHONE</th>\n",
       "      <th>COUNT(HAS_A_PHONE)</th>\n",
       "    </tr>\n",
       "  </thead>\n",
       "  <tbody>\n",
       "    <tr>\n",
       "      <th>0</th>\n",
       "      <td>1</td>\n",
       "      <td>74874</td>\n",
       "    </tr>\n",
       "  </tbody>\n",
       "</table>\n",
       "</div>"
      ],
      "text/plain": [
       "   HAS_A_PHONE  COUNT(HAS_A_PHONE)\n",
       "0            1               74874"
      ]
     },
     "execution_count": 449,
     "metadata": {},
     "output_type": "execute_result"
    }
   ],
   "source": [
    "##FILTERING TO SEE HOW MANY PEOPLE HAS A PHONE\n",
    "\n",
    "HAS_A_PHONE = session.sql(\"\"\"\n",
    "SELECT HAS_A_PHONE, COUNT(HAS_A_PHONE)\n",
    "FROM FILTER_APP_RECORD\n",
    "WHERE HAS_A_PHONE = 1\n",
    "GROUP BY HAS_A_PHONE\n",
    ";\"\"\")\n",
    "\n",
    "HAS_A_PHONE.toPandas()"
   ]
  },
  {
   "cell_type": "markdown",
   "id": "5b2bb400-d5ca-4efe-bc69-e207934ffb4c",
   "metadata": {},
   "source": [
    "## HAS A WORK PHONE"
   ]
  },
  {
   "cell_type": "code",
   "execution_count": 469,
   "id": "82b69874-cae5-4254-ae43-2b3c19bd42f0",
   "metadata": {},
   "outputs": [
    {
     "data": {
      "text/html": [
       "<div>\n",
       "<style scoped>\n",
       "    .dataframe tbody tr th:only-of-type {\n",
       "        vertical-align: middle;\n",
       "    }\n",
       "\n",
       "    .dataframe tbody tr th {\n",
       "        vertical-align: top;\n",
       "    }\n",
       "\n",
       "    .dataframe thead th {\n",
       "        text-align: right;\n",
       "    }\n",
       "</style>\n",
       "<table border=\"1\" class=\"dataframe\">\n",
       "  <thead>\n",
       "    <tr style=\"text-align: right;\">\n",
       "      <th></th>\n",
       "      <th>HAS_A_WORK_PHONE</th>\n",
       "      <th>TOTAL</th>\n",
       "    </tr>\n",
       "  </thead>\n",
       "  <tbody>\n",
       "    <tr>\n",
       "      <th>0</th>\n",
       "      <td>0</td>\n",
       "      <td>57894</td>\n",
       "    </tr>\n",
       "    <tr>\n",
       "      <th>1</th>\n",
       "      <td>1</td>\n",
       "      <td>16980</td>\n",
       "    </tr>\n",
       "  </tbody>\n",
       "</table>\n",
       "</div>"
      ],
      "text/plain": [
       "   HAS_A_WORK_PHONE  TOTAL\n",
       "0                 0  57894\n",
       "1                 1  16980"
      ]
     },
     "execution_count": 469,
     "metadata": {},
     "output_type": "execute_result"
    }
   ],
   "source": [
    "##HAS A WORK PHONE\n",
    "HAS_A_WORK_PHONE = session.sql(\"\"\"\n",
    "SELECT HAS_A_WORK_PHONE, COUNT(HAS_A_WORK_PHONE) AS TOTAL\n",
    "FROM FILTER_APP_RECORD\n",
    "GROUP BY HAS_A_WORK_PHONE\n",
    "ORDER BY HAS_A_WORK_PHONE\n",
    ";\"\"\")\n",
    "\n",
    "HAS_A_WORK_PHONE.toPandas()"
   ]
  },
  {
   "cell_type": "code",
   "execution_count": 471,
   "id": "8145cbbc-8f74-4d7a-9e3a-9c672f090219",
   "metadata": {},
   "outputs": [
    {
     "data": {
      "text/plain": [
       "<AxesSubplot:xlabel='HAS_A_WORK_PHONE'>"
      ]
     },
     "execution_count": 471,
     "metadata": {},
     "output_type": "execute_result"
    },
    {
     "data": {
      "image/png": "[encoded data removed]",
      "text/plain": [
       "<Figure size 432x288 with 1 Axes>"
      ]
     },
     "metadata": {
      "needs_background": "light"
     },
     "output_type": "display_data"
    }
   ],
   "source": [
    "HAS_A_WORK_PHONE.toPandas().set_index(\"\"\"HAS_A_WORK_PHONE\"\"\").plot.bar(rot=1)"
   ]
  },
  {
   "cell_type": "markdown",
   "id": "c0555822-0c07-4ce4-8e32-acdc2bebc16e",
   "metadata": {},
   "source": [
    "## HAS_HOUSE_PHONE"
   ]
  },
  {
   "cell_type": "code",
   "execution_count": 472,
   "id": "b1a18d95-1b01-497b-a8ad-f9ccd24b9691",
   "metadata": {},
   "outputs": [
    {
     "data": {
      "text/html": [
       "<div>\n",
       "<style scoped>\n",
       "    .dataframe tbody tr th:only-of-type {\n",
       "        vertical-align: middle;\n",
       "    }\n",
       "\n",
       "    .dataframe tbody tr th {\n",
       "        vertical-align: top;\n",
       "    }\n",
       "\n",
       "    .dataframe thead th {\n",
       "        text-align: right;\n",
       "    }\n",
       "</style>\n",
       "<table border=\"1\" class=\"dataframe\">\n",
       "  <thead>\n",
       "    <tr style=\"text-align: right;\">\n",
       "      <th></th>\n",
       "      <th>HAS_HOUSE_PHONE</th>\n",
       "      <th>TOTAL</th>\n",
       "    </tr>\n",
       "  </thead>\n",
       "  <tbody>\n",
       "    <tr>\n",
       "      <th>0</th>\n",
       "      <td>0</td>\n",
       "      <td>52789</td>\n",
       "    </tr>\n",
       "    <tr>\n",
       "      <th>1</th>\n",
       "      <td>1</td>\n",
       "      <td>22085</td>\n",
       "    </tr>\n",
       "  </tbody>\n",
       "</table>\n",
       "</div>"
      ],
      "text/plain": [
       "   HAS_HOUSE_PHONE  TOTAL\n",
       "0                0  52789\n",
       "1                1  22085"
      ]
     },
     "execution_count": 472,
     "metadata": {},
     "output_type": "execute_result"
    }
   ],
   "source": [
    "##HAS_HOUSE_PHONE\n",
    "HAS_HOUSE_PHONE = session.sql(\"\"\"\n",
    "SELECT HAS_HOUSE_PHONE, COUNT(HAS_HOUSE_PHONE) AS TOTAL\n",
    "FROM FILTER_APP_RECORD\n",
    "GROUP BY HAS_HOUSE_PHONE\n",
    ";\"\"\")\n",
    "\n",
    "HAS_A_WORK_PHONE.toPandas()"
   ]
  },
  {
   "cell_type": "code",
   "execution_count": 476,
   "id": "166a130a-1d30-4776-a0af-8e9fd98470f1",
   "metadata": {},
   "outputs": [
    {
     "data": {
      "text/plain": [
       "<AxesSubplot:xlabel='HAS_HOUSE_PHONE'>"
      ]
     },
     "execution_count": 476,
     "metadata": {},
     "output_type": "execute_result"
    },
    {
     "data": {
      "image/png": "[encoded data removed]",
      "text/plain": [
       "<Figure size 432x288 with 1 Axes>"
      ]
     },
     "metadata": {
      "needs_background": "light"
     },
     "output_type": "display_data"
    }
   ],
   "source": [
    "HAS_A_WORK_PHONE.toPandas().set_index(\"\"\"HAS_HOUSE_PHONE\"\"\").plot.bar(rot=1)"
   ]
  },
  {
   "cell_type": "markdown",
   "id": "3eb62d6b-be7b-4b3b-9d79-91a41f138ff8",
   "metadata": {},
   "source": [
    "## HAS AN EMAIL"
   ]
  },
  {
   "cell_type": "code",
   "execution_count": 477,
   "id": "dbb14c80-b77d-4317-99ad-ef95d1844713",
   "metadata": {},
   "outputs": [
    {
     "data": {
      "text/html": [
       "<div>\n",
       "<style scoped>\n",
       "    .dataframe tbody tr th:only-of-type {\n",
       "        vertical-align: middle;\n",
       "    }\n",
       "\n",
       "    .dataframe tbody tr th {\n",
       "        vertical-align: top;\n",
       "    }\n",
       "\n",
       "    .dataframe thead th {\n",
       "        text-align: right;\n",
       "    }\n",
       "</style>\n",
       "<table border=\"1\" class=\"dataframe\">\n",
       "  <thead>\n",
       "    <tr style=\"text-align: right;\">\n",
       "      <th></th>\n",
       "      <th>HAS_AN_EMAIL</th>\n",
       "      <th>TOTAL</th>\n",
       "    </tr>\n",
       "  </thead>\n",
       "  <tbody>\n",
       "    <tr>\n",
       "      <th>0</th>\n",
       "      <td>0</td>\n",
       "      <td>68100</td>\n",
       "    </tr>\n",
       "    <tr>\n",
       "      <th>1</th>\n",
       "      <td>1</td>\n",
       "      <td>6774</td>\n",
       "    </tr>\n",
       "  </tbody>\n",
       "</table>\n",
       "</div>"
      ],
      "text/plain": [
       "   HAS_AN_EMAIL  TOTAL\n",
       "0             0  68100\n",
       "1             1   6774"
      ]
     },
     "execution_count": 477,
     "metadata": {},
     "output_type": "execute_result"
    }
   ],
   "source": [
    "##HAS_AN_EMAIL\n",
    "HAS_AN_EMAIL = session.sql(\"\"\"\n",
    "SELECT HAS_AN_EMAIL, COUNT(HAS_AN_EMAIL) AS TOTAL\n",
    "FROM FILTER_APP_RECORD\n",
    "GROUP BY HAS_AN_EMAIL\n",
    ";\"\"\")\n",
    "\n",
    "\n",
    "HAS_AN_EMAIL.toPandas()"
   ]
  },
  {
   "cell_type": "code",
   "execution_count": 478,
   "id": "8070eed4-e717-48f2-a13b-0b30abd02d80",
   "metadata": {},
   "outputs": [
    {
     "data": {
      "text/plain": [
       "<AxesSubplot:xlabel='HAS_AN_EMAIL'>"
      ]
     },
     "execution_count": 478,
     "metadata": {},
     "output_type": "execute_result"
    },
    {
     "data": {
      "image/png": "[encoded data removed]",
      "text/plain": [
       "<Figure size 432x288 with 1 Axes>"
      ]
     },
     "metadata": {
      "needs_background": "light"
     },
     "output_type": "display_data"
    }
   ],
   "source": [
    "HAS_AN_EMAIL.toPandas().set_index(\"\"\"HAS_AN_EMAIL\"\"\").plot.bar(rot=1)"
   ]
  },
  {
   "cell_type": "markdown",
   "id": "290c847c-efd0-4ef5-8008-d4e67415131c",
   "metadata": {},
   "source": [
    "## FAMILY MEMBER COUNT"
   ]
  },
  {
   "cell_type": "code",
   "execution_count": 479,
   "id": "a5be6d93-aa74-466d-8d6f-e5136f39a3b4",
   "metadata": {},
   "outputs": [
    {
     "data": {
      "text/html": [
       "<div>\n",
       "<style scoped>\n",
       "    .dataframe tbody tr th:only-of-type {\n",
       "        vertical-align: middle;\n",
       "    }\n",
       "\n",
       "    .dataframe tbody tr th {\n",
       "        vertical-align: top;\n",
       "    }\n",
       "\n",
       "    .dataframe thead th {\n",
       "        text-align: right;\n",
       "    }\n",
       "</style>\n",
       "<table border=\"1\" class=\"dataframe\">\n",
       "  <thead>\n",
       "    <tr style=\"text-align: right;\">\n",
       "      <th></th>\n",
       "      <th>FAMILY_MEMBERS_COUNT</th>\n",
       "      <th>TOTAL</th>\n",
       "    </tr>\n",
       "  </thead>\n",
       "  <tbody>\n",
       "    <tr>\n",
       "      <th>0</th>\n",
       "      <td>1</td>\n",
       "      <td>14292</td>\n",
       "    </tr>\n",
       "    <tr>\n",
       "      <th>1</th>\n",
       "      <td>2</td>\n",
       "      <td>40241</td>\n",
       "    </tr>\n",
       "    <tr>\n",
       "      <th>2</th>\n",
       "      <td>3</td>\n",
       "      <td>12932</td>\n",
       "    </tr>\n",
       "    <tr>\n",
       "      <th>3</th>\n",
       "      <td>4</td>\n",
       "      <td>6417</td>\n",
       "    </tr>\n",
       "    <tr>\n",
       "      <th>4</th>\n",
       "      <td>5</td>\n",
       "      <td>830</td>\n",
       "    </tr>\n",
       "    <tr>\n",
       "      <th>5</th>\n",
       "      <td>6</td>\n",
       "      <td>113</td>\n",
       "    </tr>\n",
       "    <tr>\n",
       "      <th>6</th>\n",
       "      <td>7</td>\n",
       "      <td>36</td>\n",
       "    </tr>\n",
       "    <tr>\n",
       "      <th>7</th>\n",
       "      <td>9</td>\n",
       "      <td>6</td>\n",
       "    </tr>\n",
       "    <tr>\n",
       "      <th>8</th>\n",
       "      <td>15</td>\n",
       "      <td>6</td>\n",
       "    </tr>\n",
       "    <tr>\n",
       "      <th>9</th>\n",
       "      <td>20</td>\n",
       "      <td>1</td>\n",
       "    </tr>\n",
       "  </tbody>\n",
       "</table>\n",
       "</div>"
      ],
      "text/plain": [
       "   FAMILY_MEMBERS_COUNT  TOTAL\n",
       "0                     1  14292\n",
       "1                     2  40241\n",
       "2                     3  12932\n",
       "3                     4   6417\n",
       "4                     5    830\n",
       "5                     6    113\n",
       "6                     7     36\n",
       "7                     9      6\n",
       "8                    15      6\n",
       "9                    20      1"
      ]
     },
     "execution_count": 479,
     "metadata": {},
     "output_type": "execute_result"
    }
   ],
   "source": [
    "## FAMILY MEMBERS COUNT\n",
    "FAMILY_MEMBERS_COUNT = session.sql(\"\"\"\n",
    "SELECT FAMILY_MEMBERS_COUNT, COUNT(FAMILY_MEMBERS_COUNT) AS TOTAL\n",
    "FROM FILTER_APP_RECORD\n",
    "GROUP BY FAMILY_MEMBERS_COUNT\n",
    "ORDER BY FAMILY_MEMBERS_COUNT\n",
    ";\"\"\")\n",
    "\n",
    "FAMILY_MEMBERS_COUNT.toPandas()"
   ]
  },
  {
   "cell_type": "code",
   "execution_count": 483,
   "id": "6141defd-fe8b-429d-8bf2-89f51f2743b9",
   "metadata": {},
   "outputs": [
    {
     "data": {
      "text/plain": [
       "<AxesSubplot:ylabel='FAMILY_MEMBERS_COUNT'>"
      ]
     },
     "execution_count": 483,
     "metadata": {},
     "output_type": "execute_result"
    },
    {
     "data": {
      "image/png": "[encoded data removed]",
      "text/plain": [
       "<Figure size 432x288 with 1 Axes>"
      ]
     },
     "metadata": {
      "needs_background": "light"
     },
     "output_type": "display_data"
    }
   ],
   "source": [
    "FAMILY_MEMBERS_COUNT.toPandas().set_index(\"\"\"FAMILY_MEMBERS_COUNT\"\"\").plot.barh()"
   ]
  }
 ],
 "metadata": {
  "kernelspec": {
   "display_name": "Python 3 (ipykernel)",
   "language": "python",
   "name": "python3"
  },
  "language_info": {
   "codemirror_mode": {
    "name": "ipython",
    "version": 3
   },
   "file_extension": ".py",
   "mimetype": "text/x-python",
   "name": "python",
   "nbconvert_exporter": "python",
   "pygments_lexer": "ipython3",
   "version": "3.8.13"
  }
 },
 "nbformat": 4,
 "nbformat_minor": 5
}
