{
 "cells": [
  {
   "cell_type": "markdown",
   "id": "ee3bbc52-28c0-472e-8842-81bcd4988ddc",
   "metadata": {},
   "source": [
    "## Import libraries"
   ]
  },
  {
   "cell_type": "code",
   "execution_count": 23,
   "id": "edcb0dc8-3a49-4e46-b539-6b91ecbee7ff",
   "metadata": {},
   "outputs": [],
   "source": [
    "import sys \n",
    "import pickle\n",
    "import pandas as pd\n",
    "from snowflake.snowpark import Session \n",
    "import numpy as np\n",
    "from sklearn.model_selection import train_test_split\n",
    "from sklearn.ensemble import RandomForestClassifier \n",
    "from sklearn.metrics import accuracy_score, classification_report\n",
    "from sklearn.preprocessing import StandardScaler\n",
    "\n"
   ]
  },
  {
   "cell_type": "markdown",
   "id": "7261110b-1fb6-464d-b0bf-0c8c791916f4",
   "metadata": {},
   "source": [
    "## Check Python use 3.8"
   ]
  },
  {
   "cell_type": "code",
   "execution_count": 2,
   "id": "e219853c-ecd3-4d36-9757-3a4272d25a5c",
   "metadata": {},
   "outputs": [
    {
     "name": "stdout",
     "output_type": "stream",
     "text": [
      "Python Current Version:- 3.8.13 (default, Mar 28 2022, 06:59:08) [MSC v.1916 64 bit (AMD64)]\n"
     ]
    }
   ],
   "source": [
    "print(\"Python Current Version:-\", sys.version)"
   ]
  },
  {
   "cell_type": "markdown",
   "id": "34c3ae0a-74e9-4e68-a17a-06553d7589a0",
   "metadata": {},
   "source": [
    "## Connecting To Snowflake Database"
   ]
  },
  {
   "cell_type": "code",
   "execution_count": 3,
   "id": "35289906-f737-4eb2-b030-b84f867289fe",
   "metadata": {},
   "outputs": [
    {
     "name": "stdout",
     "output_type": "stream",
     "text": [
      "[Row(CURRENT_WAREHOUSE()='COMPUTE_WH', CURRENT_DATABASE()='CREDIT_CARD_APPROVAL_PREDICTION', CURRENT_SCHEMA()='PUBLIC')]\n"
     ]
    }
   ],
   "source": [
    "# Snowflake connection\n",
    "conn = {\n",
    "  \"account\": \"\",\n",
    "  \"user\": \"\",\n",
    "  \"password\": \"\",\n",
    "  \"role\": \"\",\n",
    "  \"warehouse\": \"\",\n",
    "  \"database\": \"\",\n",
    "  \"schema\": \"\"\n",
    " }\n",
    "\n",
    "session = Session.builder.configs(conn).create()\n",
    "print(session.sql(\"select current_warehouse(), current_database(), current_schema()\").collect())  "
   ]
  },
  {
   "cell_type": "markdown",
   "id": "3709d1ea-5112-49b3-83de-5b1e3a47a3f0",
   "metadata": {},
   "source": [
    "##  Call Require Tables"
   ]
  },
  {
   "cell_type": "code",
   "execution_count": 4,
   "id": "25813083-96a9-464f-8623-94ad792bbafb",
   "metadata": {},
   "outputs": [],
   "source": [
    "APPLICATION_RECORD = session.sql(\"\"\"\n",
    "SELECT ID,\n",
    "       FLAG_OWN_REALTY AS OWN_A_PROPERTY , \n",
    "       AMT_INCOME_TOTAL AS INCOME, \n",
    "       NAME_FAMILY_STATUS AS MARITAL_STATUS, \n",
    "       NAME_HOUSING_TYPE AS TYPE_OF_HOUSING\n",
    "FROM APPLICATION_RECORD\n",
    "\"\"\")\n",
    "X_AR = APPLICATION_RECORD.toPandas().set_index('ID')\n",
    "\n",
    "\n",
    "CREDIT_RECORD =session.table('CREDIT_RECORD')\n",
    "Y_CR = CREDIT_RECORD.toPandas().set_index('ID').head(438557)"
   ]
  },
  {
   "cell_type": "markdown",
   "id": "46897d3e-af49-4937-b640-360087b6ac50",
   "metadata": {},
   "source": [
    "## Checking Tables"
   ]
  },
  {
   "cell_type": "code",
   "execution_count": 6,
   "id": "712294e7-a021-4b71-8a9b-a0d7b4ad3eba",
   "metadata": {},
   "outputs": [
    {
     "data": {
      "text/html": [
       "<div>\n",
       "<style scoped>\n",
       "    .dataframe tbody tr th:only-of-type {\n",
       "        vertical-align: middle;\n",
       "    }\n",
       "\n",
       "    .dataframe tbody tr th {\n",
       "        vertical-align: top;\n",
       "    }\n",
       "\n",
       "    .dataframe thead th {\n",
       "        text-align: right;\n",
       "    }\n",
       "</style>\n",
       "<table border=\"1\" class=\"dataframe\">\n",
       "  <thead>\n",
       "    <tr style=\"text-align: right;\">\n",
       "      <th></th>\n",
       "      <th>OWN_A_PROPERTY</th>\n",
       "      <th>INCOME</th>\n",
       "      <th>MARITAL_STATUS</th>\n",
       "      <th>TYPE_OF_HOUSING</th>\n",
       "    </tr>\n",
       "    <tr>\n",
       "      <th>ID</th>\n",
       "      <th></th>\n",
       "      <th></th>\n",
       "      <th></th>\n",
       "      <th></th>\n",
       "    </tr>\n",
       "  </thead>\n",
       "  <tbody>\n",
       "    <tr>\n",
       "      <th>5008804</th>\n",
       "      <td>Y</td>\n",
       "      <td>427500</td>\n",
       "      <td>Civil marriage</td>\n",
       "      <td>Rented apartment</td>\n",
       "    </tr>\n",
       "    <tr>\n",
       "      <th>5008805</th>\n",
       "      <td>Y</td>\n",
       "      <td>427500</td>\n",
       "      <td>Civil marriage</td>\n",
       "      <td>Rented apartment</td>\n",
       "    </tr>\n",
       "    <tr>\n",
       "      <th>5008806</th>\n",
       "      <td>Y</td>\n",
       "      <td>112500</td>\n",
       "      <td>Married</td>\n",
       "      <td>House / apartment</td>\n",
       "    </tr>\n",
       "    <tr>\n",
       "      <th>5008808</th>\n",
       "      <td>Y</td>\n",
       "      <td>270000</td>\n",
       "      <td>Single / not married</td>\n",
       "      <td>House / apartment</td>\n",
       "    </tr>\n",
       "    <tr>\n",
       "      <th>5008809</th>\n",
       "      <td>Y</td>\n",
       "      <td>270000</td>\n",
       "      <td>Single / not married</td>\n",
       "      <td>House / apartment</td>\n",
       "    </tr>\n",
       "    <tr>\n",
       "      <th>...</th>\n",
       "      <td>...</td>\n",
       "      <td>...</td>\n",
       "      <td>...</td>\n",
       "      <td>...</td>\n",
       "    </tr>\n",
       "    <tr>\n",
       "      <th>6840104</th>\n",
       "      <td>Y</td>\n",
       "      <td>135000</td>\n",
       "      <td>Separated</td>\n",
       "      <td>House / apartment</td>\n",
       "    </tr>\n",
       "    <tr>\n",
       "      <th>6840222</th>\n",
       "      <td>N</td>\n",
       "      <td>103500</td>\n",
       "      <td>Single / not married</td>\n",
       "      <td>House / apartment</td>\n",
       "    </tr>\n",
       "    <tr>\n",
       "      <th>6841878</th>\n",
       "      <td>N</td>\n",
       "      <td>54000</td>\n",
       "      <td>Single / not married</td>\n",
       "      <td>With parents</td>\n",
       "    </tr>\n",
       "    <tr>\n",
       "      <th>6842765</th>\n",
       "      <td>Y</td>\n",
       "      <td>72000</td>\n",
       "      <td>Married</td>\n",
       "      <td>House / apartment</td>\n",
       "    </tr>\n",
       "    <tr>\n",
       "      <th>6842885</th>\n",
       "      <td>Y</td>\n",
       "      <td>121500</td>\n",
       "      <td>Married</td>\n",
       "      <td>House / apartment</td>\n",
       "    </tr>\n",
       "  </tbody>\n",
       "</table>\n",
       "<p>438557 rows × 4 columns</p>\n",
       "</div>"
      ],
      "text/plain": [
       "        OWN_A_PROPERTY  INCOME        MARITAL_STATUS    TYPE_OF_HOUSING\n",
       "ID                                                                     \n",
       "5008804              Y  427500        Civil marriage   Rented apartment\n",
       "5008805              Y  427500        Civil marriage   Rented apartment\n",
       "5008806              Y  112500               Married  House / apartment\n",
       "5008808              Y  270000  Single / not married  House / apartment\n",
       "5008809              Y  270000  Single / not married  House / apartment\n",
       "...                ...     ...                   ...                ...\n",
       "6840104              Y  135000             Separated  House / apartment\n",
       "6840222              N  103500  Single / not married  House / apartment\n",
       "6841878              N   54000  Single / not married       With parents\n",
       "6842765              Y   72000               Married  House / apartment\n",
       "6842885              Y  121500               Married  House / apartment\n",
       "\n",
       "[438557 rows x 4 columns]"
      ]
     },
     "execution_count": 6,
     "metadata": {},
     "output_type": "execute_result"
    }
   ],
   "source": [
    "X_AR"
   ]
  },
  {
   "cell_type": "code",
   "execution_count": 5,
   "id": "3c6c3edb-c3d0-4015-bb2d-b5a67bed1424",
   "metadata": {},
   "outputs": [
    {
     "data": {
      "text/html": [
       "<div>\n",
       "<style scoped>\n",
       "    .dataframe tbody tr th:only-of-type {\n",
       "        vertical-align: middle;\n",
       "    }\n",
       "\n",
       "    .dataframe tbody tr th {\n",
       "        vertical-align: top;\n",
       "    }\n",
       "\n",
       "    .dataframe thead th {\n",
       "        text-align: right;\n",
       "    }\n",
       "</style>\n",
       "<table border=\"1\" class=\"dataframe\">\n",
       "  <thead>\n",
       "    <tr style=\"text-align: right;\">\n",
       "      <th></th>\n",
       "      <th>MONTHS_BALANCE</th>\n",
       "      <th>STATUS</th>\n",
       "    </tr>\n",
       "    <tr>\n",
       "      <th>ID</th>\n",
       "      <th></th>\n",
       "      <th></th>\n",
       "    </tr>\n",
       "  </thead>\n",
       "  <tbody>\n",
       "    <tr>\n",
       "      <th>5001711</th>\n",
       "      <td>0</td>\n",
       "      <td>X</td>\n",
       "    </tr>\n",
       "    <tr>\n",
       "      <th>5001711</th>\n",
       "      <td>-1</td>\n",
       "      <td>0</td>\n",
       "    </tr>\n",
       "    <tr>\n",
       "      <th>5001711</th>\n",
       "      <td>-2</td>\n",
       "      <td>0</td>\n",
       "    </tr>\n",
       "    <tr>\n",
       "      <th>5001711</th>\n",
       "      <td>-3</td>\n",
       "      <td>0</td>\n",
       "    </tr>\n",
       "    <tr>\n",
       "      <th>5001712</th>\n",
       "      <td>0</td>\n",
       "      <td>C</td>\n",
       "    </tr>\n",
       "    <tr>\n",
       "      <th>...</th>\n",
       "      <td>...</td>\n",
       "      <td>...</td>\n",
       "    </tr>\n",
       "    <tr>\n",
       "      <th>5053255</th>\n",
       "      <td>-33</td>\n",
       "      <td>0</td>\n",
       "    </tr>\n",
       "    <tr>\n",
       "      <th>5053255</th>\n",
       "      <td>-34</td>\n",
       "      <td>0</td>\n",
       "    </tr>\n",
       "    <tr>\n",
       "      <th>5053255</th>\n",
       "      <td>-35</td>\n",
       "      <td>0</td>\n",
       "    </tr>\n",
       "    <tr>\n",
       "      <th>5053255</th>\n",
       "      <td>-36</td>\n",
       "      <td>0</td>\n",
       "    </tr>\n",
       "    <tr>\n",
       "      <th>5053255</th>\n",
       "      <td>-37</td>\n",
       "      <td>0</td>\n",
       "    </tr>\n",
       "  </tbody>\n",
       "</table>\n",
       "<p>438557 rows × 2 columns</p>\n",
       "</div>"
      ],
      "text/plain": [
       "         MONTHS_BALANCE STATUS\n",
       "ID                            \n",
       "5001711               0      X\n",
       "5001711              -1      0\n",
       "5001711              -2      0\n",
       "5001711              -3      0\n",
       "5001712               0      C\n",
       "...                 ...    ...\n",
       "5053255             -33      0\n",
       "5053255             -34      0\n",
       "5053255             -35      0\n",
       "5053255             -36      0\n",
       "5053255             -37      0\n",
       "\n",
       "[438557 rows x 2 columns]"
      ]
     },
     "execution_count": 5,
     "metadata": {},
     "output_type": "execute_result"
    }
   ],
   "source": [
    "Y_CR"
   ]
  },
  {
   "cell_type": "markdown",
   "id": "aca34600-535e-4fb3-b47a-c5d3403ad538",
   "metadata": {},
   "source": [
    "### Coverting String Into a Integers "
   ]
  },
  {
   "cell_type": "code",
   "execution_count": 7,
   "id": "c2de7ff6-7a21-4ecf-a3a7-a4e19356f35f",
   "metadata": {},
   "outputs": [],
   "source": [
    "X_AR = X_AR.replace({ 'OWN_A_PROPERTY': {'Y':1, 'N':0}, \n",
    "                    'MARITAL_STATUS': {'Civil marriage':0, 'Married':1, 'Single / not married':2, 'Separated':3, 'Widow':4},\n",
    "                    'TYPE_OF_HOUSING': {'Rented apartment':0, 'House / apartment':1, 'With parents':2, 'Municipal apartment':3, 'Co-op apartment':4,'Office apartment':5}})\n",
    "\n",
    "Y_CR = Y_CR.replace({'STATUS': {'C':6, 'X':7}})"
   ]
  },
  {
   "cell_type": "markdown",
   "id": "48a9e0f9-aef6-4a34-ad6d-a5300b3a183b",
   "metadata": {},
   "source": [
    "## Reviewing the Data to Confirm Conversion "
   ]
  },
  {
   "cell_type": "code",
   "execution_count": 8,
   "id": "f7efca99-a28c-4315-9836-e2613cfcb2f9",
   "metadata": {},
   "outputs": [
    {
     "data": {
      "text/html": [
       "<div>\n",
       "<style scoped>\n",
       "    .dataframe tbody tr th:only-of-type {\n",
       "        vertical-align: middle;\n",
       "    }\n",
       "\n",
       "    .dataframe tbody tr th {\n",
       "        vertical-align: top;\n",
       "    }\n",
       "\n",
       "    .dataframe thead th {\n",
       "        text-align: right;\n",
       "    }\n",
       "</style>\n",
       "<table border=\"1\" class=\"dataframe\">\n",
       "  <thead>\n",
       "    <tr style=\"text-align: right;\">\n",
       "      <th></th>\n",
       "      <th>OWN_A_PROPERTY</th>\n",
       "      <th>INCOME</th>\n",
       "      <th>MARITAL_STATUS</th>\n",
       "      <th>TYPE_OF_HOUSING</th>\n",
       "    </tr>\n",
       "    <tr>\n",
       "      <th>ID</th>\n",
       "      <th></th>\n",
       "      <th></th>\n",
       "      <th></th>\n",
       "      <th></th>\n",
       "    </tr>\n",
       "  </thead>\n",
       "  <tbody>\n",
       "    <tr>\n",
       "      <th>5008804</th>\n",
       "      <td>1</td>\n",
       "      <td>427500</td>\n",
       "      <td>0</td>\n",
       "      <td>0</td>\n",
       "    </tr>\n",
       "    <tr>\n",
       "      <th>5008805</th>\n",
       "      <td>1</td>\n",
       "      <td>427500</td>\n",
       "      <td>0</td>\n",
       "      <td>0</td>\n",
       "    </tr>\n",
       "    <tr>\n",
       "      <th>5008806</th>\n",
       "      <td>1</td>\n",
       "      <td>112500</td>\n",
       "      <td>1</td>\n",
       "      <td>1</td>\n",
       "    </tr>\n",
       "    <tr>\n",
       "      <th>5008808</th>\n",
       "      <td>1</td>\n",
       "      <td>270000</td>\n",
       "      <td>2</td>\n",
       "      <td>1</td>\n",
       "    </tr>\n",
       "    <tr>\n",
       "      <th>5008809</th>\n",
       "      <td>1</td>\n",
       "      <td>270000</td>\n",
       "      <td>2</td>\n",
       "      <td>1</td>\n",
       "    </tr>\n",
       "    <tr>\n",
       "      <th>...</th>\n",
       "      <td>...</td>\n",
       "      <td>...</td>\n",
       "      <td>...</td>\n",
       "      <td>...</td>\n",
       "    </tr>\n",
       "    <tr>\n",
       "      <th>6840104</th>\n",
       "      <td>1</td>\n",
       "      <td>135000</td>\n",
       "      <td>3</td>\n",
       "      <td>1</td>\n",
       "    </tr>\n",
       "    <tr>\n",
       "      <th>6840222</th>\n",
       "      <td>0</td>\n",
       "      <td>103500</td>\n",
       "      <td>2</td>\n",
       "      <td>1</td>\n",
       "    </tr>\n",
       "    <tr>\n",
       "      <th>6841878</th>\n",
       "      <td>0</td>\n",
       "      <td>54000</td>\n",
       "      <td>2</td>\n",
       "      <td>2</td>\n",
       "    </tr>\n",
       "    <tr>\n",
       "      <th>6842765</th>\n",
       "      <td>1</td>\n",
       "      <td>72000</td>\n",
       "      <td>1</td>\n",
       "      <td>1</td>\n",
       "    </tr>\n",
       "    <tr>\n",
       "      <th>6842885</th>\n",
       "      <td>1</td>\n",
       "      <td>121500</td>\n",
       "      <td>1</td>\n",
       "      <td>1</td>\n",
       "    </tr>\n",
       "  </tbody>\n",
       "</table>\n",
       "<p>438557 rows × 4 columns</p>\n",
       "</div>"
      ],
      "text/plain": [
       "         OWN_A_PROPERTY  INCOME  MARITAL_STATUS  TYPE_OF_HOUSING\n",
       "ID                                                              \n",
       "5008804               1  427500               0                0\n",
       "5008805               1  427500               0                0\n",
       "5008806               1  112500               1                1\n",
       "5008808               1  270000               2                1\n",
       "5008809               1  270000               2                1\n",
       "...                 ...     ...             ...              ...\n",
       "6840104               1  135000               3                1\n",
       "6840222               0  103500               2                1\n",
       "6841878               0   54000               2                2\n",
       "6842765               1   72000               1                1\n",
       "6842885               1  121500               1                1\n",
       "\n",
       "[438557 rows x 4 columns]"
      ]
     },
     "execution_count": 8,
     "metadata": {},
     "output_type": "execute_result"
    }
   ],
   "source": [
    "X_AR"
   ]
  },
  {
   "cell_type": "code",
   "execution_count": 9,
   "id": "c025c5a2-f86b-4dc9-911a-c525374c99ba",
   "metadata": {},
   "outputs": [
    {
     "data": {
      "text/html": [
       "<div>\n",
       "<style scoped>\n",
       "    .dataframe tbody tr th:only-of-type {\n",
       "        vertical-align: middle;\n",
       "    }\n",
       "\n",
       "    .dataframe tbody tr th {\n",
       "        vertical-align: top;\n",
       "    }\n",
       "\n",
       "    .dataframe thead th {\n",
       "        text-align: right;\n",
       "    }\n",
       "</style>\n",
       "<table border=\"1\" class=\"dataframe\">\n",
       "  <thead>\n",
       "    <tr style=\"text-align: right;\">\n",
       "      <th></th>\n",
       "      <th>MONTHS_BALANCE</th>\n",
       "      <th>STATUS</th>\n",
       "    </tr>\n",
       "    <tr>\n",
       "      <th>ID</th>\n",
       "      <th></th>\n",
       "      <th></th>\n",
       "    </tr>\n",
       "  </thead>\n",
       "  <tbody>\n",
       "    <tr>\n",
       "      <th>5001711</th>\n",
       "      <td>0</td>\n",
       "      <td>7</td>\n",
       "    </tr>\n",
       "    <tr>\n",
       "      <th>5001711</th>\n",
       "      <td>-1</td>\n",
       "      <td>0</td>\n",
       "    </tr>\n",
       "    <tr>\n",
       "      <th>5001711</th>\n",
       "      <td>-2</td>\n",
       "      <td>0</td>\n",
       "    </tr>\n",
       "    <tr>\n",
       "      <th>5001711</th>\n",
       "      <td>-3</td>\n",
       "      <td>0</td>\n",
       "    </tr>\n",
       "    <tr>\n",
       "      <th>5001712</th>\n",
       "      <td>0</td>\n",
       "      <td>6</td>\n",
       "    </tr>\n",
       "    <tr>\n",
       "      <th>...</th>\n",
       "      <td>...</td>\n",
       "      <td>...</td>\n",
       "    </tr>\n",
       "    <tr>\n",
       "      <th>5053255</th>\n",
       "      <td>-33</td>\n",
       "      <td>0</td>\n",
       "    </tr>\n",
       "    <tr>\n",
       "      <th>5053255</th>\n",
       "      <td>-34</td>\n",
       "      <td>0</td>\n",
       "    </tr>\n",
       "    <tr>\n",
       "      <th>5053255</th>\n",
       "      <td>-35</td>\n",
       "      <td>0</td>\n",
       "    </tr>\n",
       "    <tr>\n",
       "      <th>5053255</th>\n",
       "      <td>-36</td>\n",
       "      <td>0</td>\n",
       "    </tr>\n",
       "    <tr>\n",
       "      <th>5053255</th>\n",
       "      <td>-37</td>\n",
       "      <td>0</td>\n",
       "    </tr>\n",
       "  </tbody>\n",
       "</table>\n",
       "<p>438557 rows × 2 columns</p>\n",
       "</div>"
      ],
      "text/plain": [
       "         MONTHS_BALANCE STATUS\n",
       "ID                            \n",
       "5001711               0      7\n",
       "5001711              -1      0\n",
       "5001711              -2      0\n",
       "5001711              -3      0\n",
       "5001712               0      6\n",
       "...                 ...    ...\n",
       "5053255             -33      0\n",
       "5053255             -34      0\n",
       "5053255             -35      0\n",
       "5053255             -36      0\n",
       "5053255             -37      0\n",
       "\n",
       "[438557 rows x 2 columns]"
      ]
     },
     "execution_count": 9,
     "metadata": {},
     "output_type": "execute_result"
    }
   ],
   "source": [
    "Y_CR"
   ]
  },
  {
   "cell_type": "code",
   "execution_count": 53,
   "id": "4528d745-5f0d-48ff-ad63-adfbea7faae8",
   "metadata": {},
   "outputs": [
    {
     "data": {
      "text/plain": [
       "array([7, 0, 6, 1, 2, 3, 4, 5], dtype=int8)"
      ]
     },
     "execution_count": 53,
     "metadata": {},
     "output_type": "execute_result"
    }
   ],
   "source": [
    "Y_CR.STATUS.unique()"
   ]
  },
  {
   "cell_type": "markdown",
   "id": "38df725a-f8d3-40e5-b282-89f84beba014",
   "metadata": {},
   "source": [
    "### Checking and Changing Data types"
   ]
  },
  {
   "cell_type": "code",
   "execution_count": 10,
   "id": "3669c9f6-568a-4e16-a20a-b680709e85c8",
   "metadata": {},
   "outputs": [
    {
     "data": {
      "text/plain": [
       "OWN_A_PROPERTY     int64\n",
       "INCOME             int32\n",
       "MARITAL_STATUS     int64\n",
       "TYPE_OF_HOUSING    int64\n",
       "dtype: object"
      ]
     },
     "execution_count": 10,
     "metadata": {},
     "output_type": "execute_result"
    }
   ],
   "source": [
    "X_AR.dtypes"
   ]
  },
  {
   "cell_type": "code",
   "execution_count": 11,
   "id": "ebe833c0-cda5-4754-8b47-e0130f9c6b63",
   "metadata": {},
   "outputs": [
    {
     "data": {
      "text/plain": [
       "MONTHS_BALANCE      int8\n",
       "STATUS            object\n",
       "dtype: object"
      ]
     },
     "execution_count": 11,
     "metadata": {},
     "output_type": "execute_result"
    }
   ],
   "source": [
    "Y_CR.dtypes"
   ]
  },
  {
   "cell_type": "code",
   "execution_count": 12,
   "id": "7c9f2173-b050-4cfe-a7f1-5fe5ba84e22a",
   "metadata": {},
   "outputs": [
    {
     "data": {
      "text/plain": [
       "MONTHS_BALANCE    int8\n",
       "STATUS            int8\n",
       "dtype: object"
      ]
     },
     "execution_count": 12,
     "metadata": {},
     "output_type": "execute_result"
    }
   ],
   "source": [
    "Y_CR = Y_CR.astype({'STATUS': 'int8'})\n",
    "Y_CR.dtypes"
   ]
  },
  {
   "cell_type": "markdown",
   "id": "d72d9590-cfec-405b-8f99-0a5265fb5361",
   "metadata": {},
   "source": [
    "### Spitting the Data and Counting Arrays"
   ]
  },
  {
   "cell_type": "code",
   "execution_count": 13,
   "id": "4ec339ca-499c-44c1-9a66-0488b50b43eb",
   "metadata": {},
   "outputs": [
    {
     "data": {
      "text/plain": [
       "((438557, 4), (438557,))"
      ]
     },
     "execution_count": 13,
     "metadata": {},
     "output_type": "execute_result"
    }
   ],
   "source": [
    "X = X_AR[['OWN_A_PROPERTY', 'INCOME', 'MARITAL_STATUS', 'TYPE_OF_HOUSING']]\n",
    "Y = Y_CR.STATUS\n",
    "X.shape, Y.shape"
   ]
  },
  {
   "cell_type": "code",
   "execution_count": 14,
   "id": "ea3ef14d-4ca5-47fd-8134-3377051876ad",
   "metadata": {},
   "outputs": [],
   "source": [
    "X_train, X_test, Y_train, Y_test  = train_test_split(X, Y)"
   ]
  },
  {
   "cell_type": "markdown",
   "id": "5bb84dc7-6dc1-4d34-bbe2-507688b363cd",
   "metadata": {},
   "source": [
    "## Counting Dimensions"
   ]
  },
  {
   "cell_type": "code",
   "execution_count": 15,
   "id": "23b3fb33-777e-423c-90d5-8bed7f9353be",
   "metadata": {},
   "outputs": [
    {
     "name": "stdout",
     "output_type": "stream",
     "text": [
      "2 2\n",
      "1 1\n"
     ]
    }
   ],
   "source": [
    "print (X_train.ndim, X_test.ndim)\n",
    "print (Y_train.ndim, Y_test.ndim)"
   ]
  },
  {
   "cell_type": "markdown",
   "id": "fe65800b-0a37-46a7-be8a-b254e39f9086",
   "metadata": {},
   "source": [
    "### StandardScaler Preprocessor"
   ]
  },
  {
   "cell_type": "code",
   "execution_count": 16,
   "id": "db28575e-81c6-442c-aafc-77a0d0e32d21",
   "metadata": {},
   "outputs": [],
   "source": [
    "# Standardize the features\n",
    "scaler = StandardScaler()\n",
    "\n",
    "X_train = scaler.fit_transform(X_train)\n",
    "X_test = scaler.transform(X_test)"
   ]
  },
  {
   "cell_type": "markdown",
   "id": "81e0862f-ff21-4ace-b4bf-f9aa9db61ffc",
   "metadata": {},
   "source": [
    "### Train the Model with RandomForestClassifier"
   ]
  },
  {
   "cell_type": "code",
   "execution_count": 17,
   "id": "a641bdf2-4f41-48cb-9d3f-f1ae60c7271e",
   "metadata": {},
   "outputs": [
    {
     "data": {
      "text/html": [
       "<style>#sk-container-id-1 {color: black;background-color: white;}#sk-container-id-1 pre{padding: 0;}#sk-container-id-1 div.sk-toggleable {background-color: white;}#sk-container-id-1 label.sk-toggleable__label {cursor: pointer;display: block;width: 100%;margin-bottom: 0;padding: 0.3em;box-sizing: border-box;text-align: center;}#sk-container-id-1 label.sk-toggleable__label-arrow:before {content: \"▸\";float: left;margin-right: 0.25em;color: #696969;}#sk-container-id-1 label.sk-toggleable__label-arrow:hover:before {color: black;}#sk-container-id-1 div.sk-estimator:hover label.sk-toggleable__label-arrow:before {color: black;}#sk-container-id-1 div.sk-toggleable__content {max-height: 0;max-width: 0;overflow: hidden;text-align: left;background-color: #f0f8ff;}#sk-container-id-1 div.sk-toggleable__content pre {margin: 0.2em;color: black;border-radius: 0.25em;background-color: #f0f8ff;}#sk-container-id-1 input.sk-toggleable__control:checked~div.sk-toggleable__content {max-height: 200px;max-width: 100%;overflow: auto;}#sk-container-id-1 input.sk-toggleable__control:checked~label.sk-toggleable__label-arrow:before {content: \"▾\";}#sk-container-id-1 div.sk-estimator input.sk-toggleable__control:checked~label.sk-toggleable__label {background-color: #d4ebff;}#sk-container-id-1 div.sk-label input.sk-toggleable__control:checked~label.sk-toggleable__label {background-color: #d4ebff;}#sk-container-id-1 input.sk-hidden--visually {border: 0;clip: rect(1px 1px 1px 1px);clip: rect(1px, 1px, 1px, 1px);height: 1px;margin: -1px;overflow: hidden;padding: 0;position: absolute;width: 1px;}#sk-container-id-1 div.sk-estimator {font-family: monospace;background-color: #f0f8ff;border: 1px dotted black;border-radius: 0.25em;box-sizing: border-box;margin-bottom: 0.5em;}#sk-container-id-1 div.sk-estimator:hover {background-color: #d4ebff;}#sk-container-id-1 div.sk-parallel-item::after {content: \"\";width: 100%;border-bottom: 1px solid gray;flex-grow: 1;}#sk-container-id-1 div.sk-label:hover label.sk-toggleable__label {background-color: #d4ebff;}#sk-container-id-1 div.sk-serial::before {content: \"\";position: absolute;border-left: 1px solid gray;box-sizing: border-box;top: 0;bottom: 0;left: 50%;z-index: 0;}#sk-container-id-1 div.sk-serial {display: flex;flex-direction: column;align-items: center;background-color: white;padding-right: 0.2em;padding-left: 0.2em;position: relative;}#sk-container-id-1 div.sk-item {position: relative;z-index: 1;}#sk-container-id-1 div.sk-parallel {display: flex;align-items: stretch;justify-content: center;background-color: white;position: relative;}#sk-container-id-1 div.sk-item::before, #sk-container-id-1 div.sk-parallel-item::before {content: \"\";position: absolute;border-left: 1px solid gray;box-sizing: border-box;top: 0;bottom: 0;left: 50%;z-index: -1;}#sk-container-id-1 div.sk-parallel-item {display: flex;flex-direction: column;z-index: 1;position: relative;background-color: white;}#sk-container-id-1 div.sk-parallel-item:first-child::after {align-self: flex-end;width: 50%;}#sk-container-id-1 div.sk-parallel-item:last-child::after {align-self: flex-start;width: 50%;}#sk-container-id-1 div.sk-parallel-item:only-child::after {width: 0;}#sk-container-id-1 div.sk-dashed-wrapped {border: 1px dashed gray;margin: 0 0.4em 0.5em 0.4em;box-sizing: border-box;padding-bottom: 0.4em;background-color: white;}#sk-container-id-1 div.sk-label label {font-family: monospace;font-weight: bold;display: inline-block;line-height: 1.2em;}#sk-container-id-1 div.sk-label-container {text-align: center;}#sk-container-id-1 div.sk-container {/* jupyter's `normalize.less` sets `[hidden] { display: none; }` but bootstrap.min.css set `[hidden] { display: none !important; }` so we also need the `!important` here to be able to override the default hidden behavior on the sphinx rendered scikit-learn.org. See: https://github.com/scikit-learn/scikit-learn/issues/21755 */display: inline-block !important;position: relative;}#sk-container-id-1 div.sk-text-repr-fallback {display: none;}</style><div id=\"sk-container-id-1\" class=\"sk-top-container\"><div class=\"sk-text-repr-fallback\"><pre>RandomForestClassifier(max_depth=3, n_estimators=250)</pre><b>In a Jupyter environment, please rerun this cell to show the HTML representation or trust the notebook. <br />On GitHub, the HTML representation is unable to render, please try loading this page with nbviewer.org.</b></div><div class=\"sk-container\" hidden><div class=\"sk-item\"><div class=\"sk-estimator sk-toggleable\"><input class=\"sk-toggleable__control sk-hidden--visually\" id=\"sk-estimator-id-1\" type=\"checkbox\" checked><label for=\"sk-estimator-id-1\" class=\"sk-toggleable__label sk-toggleable__label-arrow\">RandomForestClassifier</label><div class=\"sk-toggleable__content\"><pre>RandomForestClassifier(max_depth=3, n_estimators=250)</pre></div></div></div></div></div>"
      ],
      "text/plain": [
       "RandomForestClassifier(max_depth=3, n_estimators=250)"
      ]
     },
     "execution_count": 17,
     "metadata": {},
     "output_type": "execute_result"
    }
   ],
   "source": [
    "model = RandomForestClassifier(n_estimators=250, max_depth=3) \n",
    "model.fit(X_train, Y_train)\n",
    "##max_depth=2, random_state = 0 n_estimators=250"
   ]
  },
  {
   "cell_type": "markdown",
   "id": "e1669c7b-e580-4a7f-b504-ee1cedf04962",
   "metadata": {},
   "source": [
    "## Make predictions on the sets"
   ]
  },
  {
   "cell_type": "code",
   "execution_count": null,
   "id": "0a132c0d-def4-4c9a-bf7f-1873997a526f",
   "metadata": {},
   "outputs": [
    {
     "name": "stdout",
     "output_type": "stream",
     "text": [
      "Test accuracy: 0.41732944180955855\n",
      "Train accuracy: 0.41915741661270167\n"
     ]
    }
   ],
   "source": [
    "pred_test = model.predict(X_test)\n",
    "pred_train = model.predict(X_train)\n",
    "\n",
    "print(\"Test accuracy:\", accuracy_score(Y_test, pred_test))\n",
    "print(\"Train accuracy:\", accuracy_score(Y_train, pred_train))\n"
   ]
  },
  {
   "cell_type": "markdown",
   "id": "6540d996-9459-4757-934c-a51d803347a1",
   "metadata": {},
   "source": [
    "## Predicting array "
   ]
  },
  {
   "cell_type": "code",
   "execution_count": 19,
   "id": "32de500b-2a46-4376-b0c5-261662a7580c",
   "metadata": {},
   "outputs": [
    {
     "data": {
      "text/plain": [
       "array([6, 6, 6, 6, 6, 6, 6, 6, 6, 6, 6, 6, 6, 6, 6, 6, 6, 6, 6, 6],\n",
       "      dtype=int8)"
      ]
     },
     "execution_count": 19,
     "metadata": {},
     "output_type": "execute_result"
    }
   ],
   "source": [
    "pred_test[:20]"
   ]
  },
  {
   "cell_type": "markdown",
   "id": "d9e47cd3-b828-4024-8810-b4e045f4a524",
   "metadata": {},
   "source": [
    "## Classification Report "
   ]
  },
  {
   "cell_type": "code",
   "execution_count": 63,
   "id": "238a5a81-b487-45be-9797-53858d0e010a",
   "metadata": {},
   "outputs": [
    {
     "name": "stdout",
     "output_type": "stream",
     "text": [
      "              precision    recall  f1-score   support\n",
      "\n",
      "           0       0.76      0.00      0.00     39836\n",
      "           1       0.00      0.00      0.00      1085\n",
      "           2       0.00      0.00      0.00        95\n",
      "           3       0.00      0.00      0.00        23\n",
      "           4       0.00      0.00      0.00        12\n",
      "           5       0.00      0.00      0.00       126\n",
      "           6       0.42      1.00      0.59     45938\n",
      "           7       1.00      0.00      0.00     22525\n",
      "\n",
      "    accuracy                           0.42    109640\n",
      "   macro avg       0.27      0.13      0.07    109640\n",
      "weighted avg       0.66      0.42      0.25    109640\n",
      "\n"
     ]
    },
    {
     "name": "stderr",
     "output_type": "stream",
     "text": [
      "C:\\Users\\lawre\\anaconda3\\envs\\Python3_8\\lib\\site-packages\\sklearn\\metrics\\_classification.py:1334: UndefinedMetricWarning: Precision and F-score are ill-defined and being set to 0.0 in labels with no predicted samples. Use `zero_division` parameter to control this behavior.\n",
      "  _warn_prf(average, modifier, msg_start, len(result))\n",
      "C:\\Users\\lawre\\anaconda3\\envs\\Python3_8\\lib\\site-packages\\sklearn\\metrics\\_classification.py:1334: UndefinedMetricWarning: Precision and F-score are ill-defined and being set to 0.0 in labels with no predicted samples. Use `zero_division` parameter to control this behavior.\n",
      "  _warn_prf(average, modifier, msg_start, len(result))\n",
      "C:\\Users\\lawre\\anaconda3\\envs\\Python3_8\\lib\\site-packages\\sklearn\\metrics\\_classification.py:1334: UndefinedMetricWarning: Precision and F-score are ill-defined and being set to 0.0 in labels with no predicted samples. Use `zero_division` parameter to control this behavior.\n",
      "  _warn_prf(average, modifier, msg_start, len(result))\n"
     ]
    }
   ],
   "source": [
    "print(classification_report(Y_test, pred_test))"
   ]
  },
  {
   "cell_type": "markdown",
   "id": "27a8aad0-34ba-414c-9a1d-c0c57e2162fb",
   "metadata": {},
   "source": [
    "## Saving Model to pickle "
   ]
  },
  {
   "cell_type": "code",
   "execution_count": 24,
   "id": "d8237bfa-9b03-4923-8dca-e117e88c39eb",
   "metadata": {},
   "outputs": [],
   "source": [
    "# Save the trained model and scaler to files\n",
    "with open('model.pkl', 'wb') as model_file:\n",
    "    pickle.dump(model, model_file)\n",
    "\n",
    "with open('scaler.pkl', 'wb') as scaler_file:\n",
    "    pickle.dump(scaler, scaler_file)"
   ]
  },
  {
   "cell_type": "code",
   "execution_count": null,
   "id": "3a968eab-65cf-41b0-bafb-2800e324361d",
   "metadata": {},
   "outputs": [],
   "source": []
  }
 ],
 "metadata": {
  "kernelspec": {
   "display_name": "Python 3 (ipykernel)",
   "language": "python",
   "name": "python3"
  },
  "language_info": {
   "codemirror_mode": {
    "name": "ipython",
    "version": 3
   },
   "file_extension": ".py",
   "mimetype": "text/x-python",
   "name": "python",
   "nbconvert_exporter": "python",
   "pygments_lexer": "ipython3",
   "version": "3.8.13"
  }
 },
 "nbformat": 4,
 "nbformat_minor": 5
}
